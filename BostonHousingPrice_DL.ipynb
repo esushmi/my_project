{
  "nbformat": 4,
  "nbformat_minor": 0,
  "metadata": {
    "colab": {
      "provenance": [],
      "gpuType": "T4",
      "authorship_tag": "ABX9TyOgabEqVHPp+ye+6LXL4RpI",
      "include_colab_link": true
    },
    "kernelspec": {
      "name": "python3",
      "display_name": "Python 3"
    },
    "language_info": {
      "name": "python"
    },
    "accelerator": "GPU"
  },
  "cells": [
    {
      "cell_type": "markdown",
      "metadata": {
        "id": "view-in-github",
        "colab_type": "text"
      },
      "source": [
        "<a href=\"https://colab.research.google.com/github/esushmi/my_project/blob/main/BostonHousingPrice_DL.ipynb\" target=\"_parent\"><img src=\"https://colab.research.google.com/assets/colab-badge.svg\" alt=\"Open In Colab\"/></a>"
      ]
    },
    {
      "cell_type": "code",
      "execution_count": 6,
      "metadata": {
        "id": "OaXLgI4bkaIh"
      },
      "outputs": [],
      "source": [
        "import tensorflow as tf\n",
        "from tensorflow import keras"
      ]
    },
    {
      "cell_type": "markdown",
      "source": [
        "#Collect dataset\n"
      ],
      "metadata": {
        "id": "BgTkU4E9l6JD"
      }
    },
    {
      "cell_type": "code",
      "source": [
        "(features, actual_price),_=tf.keras.datasets.boston_housing.load_data(test_split=0)"
      ],
      "metadata": {
        "id": "CTpDpV2slWOd"
      },
      "execution_count": 13,
      "outputs": []
    },
    {
      "cell_type": "code",
      "source": [
        "print(\"number of examples\", features.shape[0])\n",
        "print(\"number of features for each example\", features.shape[1])\n",
        "print(\"shape of actual price\", actual_price.shape)"
      ],
      "metadata": {
        "colab": {
          "base_uri": "https://localhost:8080/"
        },
        "id": "uiUqrUwalWT_",
        "outputId": "5b41a557-7625-422c-a3dd-13500cf15423"
      },
      "execution_count": 14,
      "outputs": [
        {
          "output_type": "stream",
          "name": "stdout",
          "text": [
            "number of examples 506\n",
            "number of features for each example 13\n",
            "shape of actual price (506,)\n"
          ]
        }
      ]
    },
    {
      "cell_type": "code",
      "source": [
        "model=tf.keras.models.Sequential()\n",
        "model.add(tf.keras.layers.BatchNormalization(input_shape=(13,)))\n",
        "model.add(tf.keras.layers.Dense(3))\n",
        "model.add(tf.keras.layers.Dense(1))\n",
        "model.compile(optimizer=\"adam\", loss=\"mse\")\n",
        "model.fit(features,actual_price,epochs=50)"
      ],
      "metadata": {
        "colab": {
          "base_uri": "https://localhost:8080/"
        },
        "id": "AH9eWnRElWWv",
        "outputId": "b35253ed-3200-4c83-b405-9325fd99901a"
      },
      "execution_count": 20,
      "outputs": [
        {
          "output_type": "stream",
          "name": "stdout",
          "text": [
            "Epoch 1/50\n",
            "16/16 [==============================] - 6s 4ms/step - loss: 587.2023\n",
            "Epoch 2/50\n",
            "16/16 [==============================] - 0s 3ms/step - loss: 578.8621\n",
            "Epoch 3/50\n",
            "16/16 [==============================] - 0s 3ms/step - loss: 570.2180\n",
            "Epoch 4/50\n",
            "16/16 [==============================] - 0s 4ms/step - loss: 561.5031\n",
            "Epoch 5/50\n",
            "16/16 [==============================] - 0s 3ms/step - loss: 552.7193\n",
            "Epoch 6/50\n",
            "16/16 [==============================] - 0s 3ms/step - loss: 542.7109\n",
            "Epoch 7/50\n",
            "16/16 [==============================] - 0s 3ms/step - loss: 531.9925\n",
            "Epoch 8/50\n",
            "16/16 [==============================] - 0s 3ms/step - loss: 519.6422\n",
            "Epoch 9/50\n",
            "16/16 [==============================] - 0s 3ms/step - loss: 506.2470\n",
            "Epoch 10/50\n",
            "16/16 [==============================] - 0s 3ms/step - loss: 491.1969\n",
            "Epoch 11/50\n",
            "16/16 [==============================] - 0s 3ms/step - loss: 474.7201\n",
            "Epoch 12/50\n",
            "16/16 [==============================] - 0s 3ms/step - loss: 455.7806\n",
            "Epoch 13/50\n",
            "16/16 [==============================] - 0s 3ms/step - loss: 436.2078\n",
            "Epoch 14/50\n",
            "16/16 [==============================] - 0s 3ms/step - loss: 415.0326\n",
            "Epoch 15/50\n",
            "16/16 [==============================] - 0s 4ms/step - loss: 390.5103\n",
            "Epoch 16/50\n",
            "16/16 [==============================] - 0s 5ms/step - loss: 364.3570\n",
            "Epoch 17/50\n",
            "16/16 [==============================] - 0s 5ms/step - loss: 336.7726\n",
            "Epoch 18/50\n",
            "16/16 [==============================] - 0s 4ms/step - loss: 308.6330\n",
            "Epoch 19/50\n",
            "16/16 [==============================] - 0s 4ms/step - loss: 281.5940\n",
            "Epoch 20/50\n",
            "16/16 [==============================] - 0s 5ms/step - loss: 251.3953\n",
            "Epoch 21/50\n",
            "16/16 [==============================] - 0s 4ms/step - loss: 224.2347\n",
            "Epoch 22/50\n",
            "16/16 [==============================] - 0s 4ms/step - loss: 196.7273\n",
            "Epoch 23/50\n",
            "16/16 [==============================] - 0s 4ms/step - loss: 170.7147\n",
            "Epoch 24/50\n",
            "16/16 [==============================] - 0s 4ms/step - loss: 148.3742\n",
            "Epoch 25/50\n",
            "16/16 [==============================] - 0s 4ms/step - loss: 123.7280\n",
            "Epoch 26/50\n",
            "16/16 [==============================] - 0s 4ms/step - loss: 104.6823\n",
            "Epoch 27/50\n",
            "16/16 [==============================] - 0s 4ms/step - loss: 92.3604\n",
            "Epoch 28/50\n",
            "16/16 [==============================] - 0s 4ms/step - loss: 77.5230\n",
            "Epoch 29/50\n",
            "16/16 [==============================] - 0s 4ms/step - loss: 67.5519\n",
            "Epoch 30/50\n",
            "16/16 [==============================] - 0s 4ms/step - loss: 58.9566\n",
            "Epoch 31/50\n",
            "16/16 [==============================] - 0s 4ms/step - loss: 51.2598\n",
            "Epoch 32/50\n",
            "16/16 [==============================] - 0s 4ms/step - loss: 46.6379\n",
            "Epoch 33/50\n",
            "16/16 [==============================] - 0s 4ms/step - loss: 43.4821\n",
            "Epoch 34/50\n",
            "16/16 [==============================] - 0s 5ms/step - loss: 40.6191\n",
            "Epoch 35/50\n",
            "16/16 [==============================] - 0s 4ms/step - loss: 38.4300\n",
            "Epoch 36/50\n",
            "16/16 [==============================] - 0s 4ms/step - loss: 36.0837\n",
            "Epoch 37/50\n",
            "16/16 [==============================] - 0s 4ms/step - loss: 35.3722\n",
            "Epoch 38/50\n",
            "16/16 [==============================] - 0s 5ms/step - loss: 35.4866\n",
            "Epoch 39/50\n",
            "16/16 [==============================] - 0s 4ms/step - loss: 35.2836\n",
            "Epoch 40/50\n",
            "16/16 [==============================] - 0s 4ms/step - loss: 33.1779\n",
            "Epoch 41/50\n",
            "16/16 [==============================] - 0s 4ms/step - loss: 31.9163\n",
            "Epoch 42/50\n",
            "16/16 [==============================] - 0s 4ms/step - loss: 31.9895\n",
            "Epoch 43/50\n",
            "16/16 [==============================] - 0s 5ms/step - loss: 33.5337\n",
            "Epoch 44/50\n",
            "16/16 [==============================] - 0s 5ms/step - loss: 28.9682\n",
            "Epoch 45/50\n",
            "16/16 [==============================] - 0s 4ms/step - loss: 30.5590\n",
            "Epoch 46/50\n",
            "16/16 [==============================] - 0s 4ms/step - loss: 29.8147\n",
            "Epoch 47/50\n",
            "16/16 [==============================] - 0s 4ms/step - loss: 28.1764\n",
            "Epoch 48/50\n",
            "16/16 [==============================] - 0s 4ms/step - loss: 26.9585\n",
            "Epoch 49/50\n",
            "16/16 [==============================] - 0s 3ms/step - loss: 29.6563\n",
            "Epoch 50/50\n",
            "16/16 [==============================] - 0s 3ms/step - loss: 29.7117\n"
          ]
        },
        {
          "output_type": "execute_result",
          "data": {
            "text/plain": [
              "<keras.callbacks.History at 0x7f3609a0f880>"
            ]
          },
          "metadata": {},
          "execution_count": 20
        }
      ]
    },
    {
      "cell_type": "code",
      "source": [
        "model.summary()"
      ],
      "metadata": {
        "colab": {
          "base_uri": "https://localhost:8080/"
        },
        "id": "MMNXRcOflWZf",
        "outputId": "0bbea98f-b6ba-4634-accb-897502cb1d83"
      },
      "execution_count": 22,
      "outputs": [
        {
          "output_type": "stream",
          "name": "stdout",
          "text": [
            "Model: \"sequential_3\"\n",
            "_________________________________________________________________\n",
            " Layer (type)                Output Shape              Param #   \n",
            "=================================================================\n",
            " batch_normalization_2 (Batc  (None, 13)               52        \n",
            " hNormalization)                                                 \n",
            "                                                                 \n",
            " dense_2 (Dense)             (None, 3)                 42        \n",
            "                                                                 \n",
            " dense_3 (Dense)             (None, 1)                 4         \n",
            "                                                                 \n",
            "=================================================================\n",
            "Total params: 98\n",
            "Trainable params: 72\n",
            "Non-trainable params: 26\n",
            "_________________________________________________________________\n"
          ]
        }
      ]
    },
    {
      "cell_type": "code",
      "source": [],
      "metadata": {
        "id": "XKHV26rjlWcC"
      },
      "execution_count": null,
      "outputs": []
    },
    {
      "cell_type": "code",
      "source": [],
      "metadata": {
        "id": "Nf6HJJK-lWe2"
      },
      "execution_count": null,
      "outputs": []
    },
    {
      "cell_type": "code",
      "source": [],
      "metadata": {
        "id": "XOSR4j7SlWhX"
      },
      "execution_count": null,
      "outputs": []
    },
    {
      "cell_type": "code",
      "source": [],
      "metadata": {
        "id": "Fl4UXWJBlWk4"
      },
      "execution_count": null,
      "outputs": []
    },
    {
      "cell_type": "code",
      "source": [],
      "metadata": {
        "id": "n8-v7SH2keK8"
      },
      "execution_count": null,
      "outputs": []
    },
    {
      "cell_type": "code",
      "source": [],
      "metadata": {
        "id": "tLBeLUzrkew7"
      },
      "execution_count": null,
      "outputs": []
    }
  ]
}