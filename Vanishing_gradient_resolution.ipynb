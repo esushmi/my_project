{
  "nbformat": 4,
  "nbformat_minor": 0,
  "metadata": {
    "colab": {
      "provenance": [],
      "gpuType": "T4",
      "authorship_tag": "ABX9TyPH4YWF+zb17OlgHEisnymA",
      "include_colab_link": true
    },
    "kernelspec": {
      "name": "python3",
      "display_name": "Python 3"
    },
    "language_info": {
      "name": "python"
    },
    "accelerator": "GPU"
  },
  "cells": [
    {
      "cell_type": "markdown",
      "metadata": {
        "id": "view-in-github",
        "colab_type": "text"
      },
      "source": [
        "<a href=\"https://colab.research.google.com/github/esushmi/my_project/blob/main/Vanishing_gradient_resolution.ipynb\" target=\"_parent\"><img src=\"https://colab.research.google.com/assets/colab-badge.svg\" alt=\"Open In Colab\"/></a>"
      ]
    },
    {
      "cell_type": "code",
      "execution_count": 2,
      "metadata": {
        "id": "15mpjvOwC4Xg"
      },
      "outputs": [],
      "source": [
        "import numpy as np\n",
        "import pandas as pd\n",
        "import matplotlib.pyplot as plt\n",
        "import seaborn as sns\n",
        "import tensorflow as tf\n",
        "from tensorflow import keras\n"
      ]
    },
    {
      "cell_type": "code",
      "source": [
        "from keras.models import Sequential\n",
        "from keras.layers import Dense"
      ],
      "metadata": {
        "id": "Ko3VxrmkDQ_I"
      },
      "execution_count": 3,
      "outputs": []
    },
    {
      "cell_type": "code",
      "source": [
        "from sklearn.datasets import make_moons\n",
        "# make moons gives polynomial data/non linear"
      ],
      "metadata": {
        "id": "qGQ_hijuDRB2"
      },
      "execution_count": 5,
      "outputs": []
    },
    {
      "cell_type": "code",
      "source": [
        "x, y = make_moons(n_samples=250, noise=0.05, random_state=1)\n",
        "#5% data is considered as noisy data"
      ],
      "metadata": {
        "id": "0zB1IdMrDRFP"
      },
      "execution_count": 6,
      "outputs": []
    },
    {
      "cell_type": "code",
      "source": [
        "x"
      ],
      "metadata": {
        "colab": {
          "base_uri": "https://localhost:8080/"
        },
        "id": "vW8gHIVQDRIG",
        "outputId": "5a60deb9-8bb4-4653-9375-481225054686"
      },
      "execution_count": 7,
      "outputs": [
        {
          "output_type": "execute_result",
          "data": {
            "text/plain": [
              "array([[-1.27569443e-01,  9.53229096e-01],\n",
              "       [ 2.06368780e+00,  5.98355087e-01],\n",
              "       [ 1.79346094e+00,  9.88115574e-02],\n",
              "       [ 4.69276555e-01, -2.73875152e-01],\n",
              "       [-7.30348246e-01,  7.85180851e-01],\n",
              "       [ 1.79698225e+00, -1.22073078e-01],\n",
              "       [ 3.96654152e-02,  1.02239620e+00],\n",
              "       [ 1.96829334e+00,  9.78738626e-02],\n",
              "       [ 8.49609051e-01, -5.41532093e-01],\n",
              "       [ 1.03496237e+00,  1.03496687e-01],\n",
              "       [ 1.97498654e+00,  3.18492940e-01],\n",
              "       [ 1.06877702e+00, -4.62158493e-01],\n",
              "       [-9.53056675e-01,  2.08183581e-01],\n",
              "       [ 8.77552461e-01, -4.61068164e-01],\n",
              "       [ 1.29082208e-02,  4.83478402e-01],\n",
              "       [-4.09861694e-01,  7.97215923e-01],\n",
              "       [ 9.76008116e-01, -3.87763931e-01],\n",
              "       [ 2.97164335e-01,  9.56408968e-01],\n",
              "       [ 7.68193414e-01,  6.25989329e-01],\n",
              "       [-2.74225642e-01,  9.05315794e-01],\n",
              "       [ 1.79490872e+00, -1.21119556e-01],\n",
              "       [ 6.63812441e-01,  7.43926065e-01],\n",
              "       [-7.17253019e-01,  6.61649686e-01],\n",
              "       [ 1.02398405e+00, -4.89002380e-01],\n",
              "       [-8.85334337e-01,  6.35027584e-03],\n",
              "       [-1.02433301e+00,  1.71412940e-01],\n",
              "       [ 2.12352920e+00,  4.11635147e-01],\n",
              "       [ 1.97026057e+00,  2.38031756e-01],\n",
              "       [ 6.37841071e-01,  8.06398048e-01],\n",
              "       [ 1.70438834e+00, -2.58003665e-01],\n",
              "       [ 1.77134387e+00, -3.46153292e-02],\n",
              "       [ 4.65553392e-01,  9.62465834e-01],\n",
              "       [-5.52235132e-03,  9.69131897e-01],\n",
              "       [ 1.53543385e+00, -3.49735146e-01],\n",
              "       [ 3.82091215e-01, -2.78671287e-01],\n",
              "       [ 1.93236354e+00,  3.31726733e-02],\n",
              "       [ 6.45525651e-01,  8.90524647e-01],\n",
              "       [ 7.40059271e-01,  6.25734864e-01],\n",
              "       [ 9.27920504e-01,  4.61408262e-01],\n",
              "       [ 1.98679695e+00,  2.28784118e-01],\n",
              "       [ 1.42035024e+00, -3.56604259e-01],\n",
              "       [ 8.58244761e-01,  5.60740548e-01],\n",
              "       [-7.73704365e-01,  6.19072353e-01],\n",
              "       [-9.31180321e-01,  4.84436231e-01],\n",
              "       [ 6.14429074e-01,  8.39817531e-01],\n",
              "       [-9.54077107e-01,  2.80171463e-01],\n",
              "       [ 6.87661187e-01,  7.45689455e-01],\n",
              "       [ 8.99574061e-01,  3.18888059e-01],\n",
              "       [ 7.73181694e-01,  6.48637010e-01],\n",
              "       [ 1.07037700e+00,  6.45507899e-03],\n",
              "       [ 1.94261948e+00,  1.78412539e-02],\n",
              "       [-4.72352438e-01,  8.40441947e-01],\n",
              "       [-1.01512648e+00,  4.21831555e-01],\n",
              "       [ 1.37739479e-01, -6.02346084e-02],\n",
              "       [ 5.70624220e-01, -4.29127534e-01],\n",
              "       [-9.72181552e-01,  1.86511275e-01],\n",
              "       [-9.55417310e-01,  2.41035688e-01],\n",
              "       [ 7.52734894e-01,  5.89716446e-01],\n",
              "       [ 8.59841905e-01,  3.61068129e-01],\n",
              "       [-7.56969674e-02,  4.14912896e-01],\n",
              "       [ 8.23661544e-01, -5.04017573e-01],\n",
              "       [ 1.93877162e-01, -1.61708068e-01],\n",
              "       [ 5.85984581e-01, -3.94917423e-01],\n",
              "       [ 1.08157613e+00, -5.20875104e-01],\n",
              "       [ 4.61476347e-01,  8.63366653e-01],\n",
              "       [ 1.23340317e+00, -4.79619106e-01],\n",
              "       [ 3.89309760e-01,  9.45520698e-01],\n",
              "       [ 5.55319957e-01, -4.38589502e-01],\n",
              "       [ 1.56309303e-01,  2.05845113e-01],\n",
              "       [-1.54943459e-01,  9.53965104e-01],\n",
              "       [-6.26630902e-01,  6.98731636e-01],\n",
              "       [ 1.94842410e+00,  6.37690918e-02],\n",
              "       [ 7.31606297e-01, -4.01313987e-01],\n",
              "       [ 1.01423741e+00, -4.86876628e-01],\n",
              "       [ 8.12526445e-01, -5.16193521e-01],\n",
              "       [ 1.17733350e-01,  1.07428087e+00],\n",
              "       [-5.74165700e-01,  8.35021178e-01],\n",
              "       [ 1.93025207e+00,  2.30562568e-01],\n",
              "       [ 1.22731932e+00, -3.92526603e-01],\n",
              "       [ 1.47259297e+00, -3.04354419e-01],\n",
              "       [-6.90468067e-01,  7.36882674e-01],\n",
              "       [ 9.42523387e-01,  3.93377756e-01],\n",
              "       [ 3.51665027e-01, -2.48201885e-01],\n",
              "       [ 8.62598379e-01,  5.16155176e-01],\n",
              "       [ 9.56042766e-02,  9.92514679e-01],\n",
              "       [ 1.76568670e+00, -1.34783262e-01],\n",
              "       [ 2.01036594e-01,  9.50281117e-01],\n",
              "       [-9.12898193e-01,  4.02640898e-01],\n",
              "       [-5.08098910e-01,  8.87882790e-01],\n",
              "       [ 1.78276807e-01,  1.00341167e+00],\n",
              "       [ 1.18974142e-01,  2.50022387e-01],\n",
              "       [ 7.07838873e-01, -5.12105999e-01],\n",
              "       [-8.19983150e-01,  6.73019501e-01],\n",
              "       [-9.98048873e-01,  1.59144891e-02],\n",
              "       [ 5.16392138e-01,  8.44356390e-01],\n",
              "       [ 9.64843399e-01,  4.32772344e-01],\n",
              "       [ 1.06142615e+00,  9.32713828e-02],\n",
              "       [ 1.10089369e+00, -4.57487276e-01],\n",
              "       [-8.65075532e-01,  4.37834729e-01],\n",
              "       [ 3.11025397e-01,  8.94363698e-01],\n",
              "       [ 1.34050639e+00, -4.77615621e-01],\n",
              "       [-8.70345364e-02,  9.53564452e-01],\n",
              "       [-1.70244385e-01,  1.02733603e+00],\n",
              "       [ 1.70672156e+00, -1.10750541e-01],\n",
              "       [-9.79974216e-01,  3.08416927e-01],\n",
              "       [ 2.01037664e+00,  4.04688639e-01],\n",
              "       [ 1.51447530e-01,  9.74190242e-01],\n",
              "       [ 2.06455864e+00,  3.42759563e-01],\n",
              "       [-8.92635798e-01,  5.14976523e-01],\n",
              "       [ 1.58178475e+00, -3.12814977e-01],\n",
              "       [-1.02026103e+00,  8.92591185e-02],\n",
              "       [-9.41069276e-01,  4.10532223e-01],\n",
              "       [ 1.45856168e-01, -2.85365631e-02],\n",
              "       [-7.83425593e-01,  6.23233021e-01],\n",
              "       [-4.62243758e-01,  8.15547483e-01],\n",
              "       [ 7.03201106e-01, -3.91751235e-01],\n",
              "       [-8.96112900e-01,  5.03266315e-01],\n",
              "       [ 1.51522549e+00, -3.61832964e-01],\n",
              "       [-7.16979595e-01,  6.79455868e-01],\n",
              "       [ 2.35549513e-01, -2.04007246e-01],\n",
              "       [ 9.26264520e-01,  3.46321560e-01],\n",
              "       [ 4.85324837e-01, -3.91048073e-01],\n",
              "       [ 1.98689466e+00,  4.85741506e-01],\n",
              "       [ 3.55368837e-01, -3.81140309e-01],\n",
              "       [ 1.87787659e+00, -1.27502982e-02],\n",
              "       [ 1.17751291e+00, -5.07748715e-01],\n",
              "       [ 2.00408079e+00,  2.04252422e-01],\n",
              "       [ 6.06433919e-01, -3.46127473e-01],\n",
              "       [-3.56105241e-01,  8.47083333e-01],\n",
              "       [-1.08779628e+00,  3.57394799e-02],\n",
              "       [ 4.92342488e-01, -3.33203808e-01],\n",
              "       [ 3.51792123e-01, -3.43158200e-01],\n",
              "       [ 9.77148646e-01,  3.14229171e-01],\n",
              "       [ 1.75295886e+00, -1.60145431e-01],\n",
              "       [ 5.12910116e-01, -4.24455556e-01],\n",
              "       [ 3.46181221e-01,  9.97070789e-01],\n",
              "       [ 1.01884740e-01,  3.85785466e-02],\n",
              "       [-9.12866298e-01,  5.47022202e-01],\n",
              "       [ 5.18447934e-01,  8.36806493e-01],\n",
              "       [ 1.36918120e+00, -3.23122747e-01],\n",
              "       [ 1.85363111e+00,  1.09463169e-01],\n",
              "       [ 1.16978937e+00, -4.26823365e-01],\n",
              "       [ 1.87666169e+00,  6.39290688e-02],\n",
              "       [-4.30561324e-01,  9.04740926e-01],\n",
              "       [ 2.47565146e-01, -7.67333221e-02],\n",
              "       [ 1.67488011e+00, -1.21975011e-01],\n",
              "       [ 2.06754240e+00,  2.95668855e-01],\n",
              "       [ 8.78041357e-01, -3.82291500e-02],\n",
              "       [ 1.03704017e+00, -4.41320858e-01],\n",
              "       [ 1.00398194e+00,  4.67153867e-02],\n",
              "       [ 1.55982992e+00, -2.40095372e-01],\n",
              "       [ 1.18255829e+00, -5.17028422e-01],\n",
              "       [-2.68218396e-01,  9.31323476e-01],\n",
              "       [-9.85374585e-01,  2.92604471e-01],\n",
              "       [-7.50748779e-02,  9.75655800e-01],\n",
              "       [ 2.69647079e-01, -5.63208924e-02],\n",
              "       [ 4.36398933e-01,  9.13813451e-01],\n",
              "       [-2.42018104e-01,  9.51654127e-01],\n",
              "       [-6.65634756e-01,  7.76477131e-01],\n",
              "       [ 9.39273896e-01, -4.05381589e-01],\n",
              "       [-5.69312846e-01,  7.21825264e-01],\n",
              "       [ 4.41869552e-02,  1.27111189e-01],\n",
              "       [ 6.59997854e-01, -4.26922412e-01],\n",
              "       [ 9.25504336e-01,  3.00696603e-01],\n",
              "       [ 3.88881341e-01, -2.33122852e-01],\n",
              "       [ 6.62355218e-01,  7.80699457e-01],\n",
              "       [ 7.23030752e-02,  1.88784292e-01],\n",
              "       [ 5.47654026e-01, -4.06853725e-01],\n",
              "       [-5.48419150e-01,  8.97857565e-01],\n",
              "       [ 1.19478097e+00, -5.03808301e-01],\n",
              "       [ 4.53840954e-01, -3.98652717e-01],\n",
              "       [ 3.27456933e-01, -1.58541184e-01],\n",
              "       [-8.24229876e-01,  5.65848612e-01],\n",
              "       [ 2.25077756e-02,  5.88266755e-01],\n",
              "       [ 8.78520303e-01,  5.24869859e-01],\n",
              "       [ 3.91918850e-02,  4.68728727e-01],\n",
              "       [ 9.64166239e-01,  3.19371639e-01],\n",
              "       [ 1.61099514e+00, -2.98974897e-01],\n",
              "       [-9.71951881e-01,  4.15185505e-01],\n",
              "       [ 2.63798024e-01, -1.86118528e-01],\n",
              "       [ 1.12693901e+00, -5.50612876e-01],\n",
              "       [-6.44261018e-03,  2.83076003e-01],\n",
              "       [-8.73204750e-01,  3.53061627e-01],\n",
              "       [ 2.05957062e+00,  5.59896994e-01],\n",
              "       [ 1.35528882e-03,  9.52794505e-01],\n",
              "       [ 9.23385764e-01,  4.02459384e-01],\n",
              "       [ 4.86553445e-01,  8.84369303e-01],\n",
              "       [ 1.38403883e+00, -4.27791432e-01],\n",
              "       [-9.02209012e-01,  2.59095275e-01],\n",
              "       [-4.95779777e-01,  8.96918624e-01],\n",
              "       [ 1.64682809e-01,  9.70933169e-01],\n",
              "       [ 7.50798362e-01,  5.97526253e-01],\n",
              "       [-3.60254396e-01,  9.47216792e-01],\n",
              "       [ 4.34807207e-01,  8.90844353e-01],\n",
              "       [ 7.90705601e-01,  5.99071891e-01],\n",
              "       [ 1.08180337e+00,  8.57766032e-02],\n",
              "       [ 1.62059945e+00, -3.48976135e-01],\n",
              "       [ 3.58106298e-01,  9.08346003e-01],\n",
              "       [ 1.38794199e-01, -4.33962425e-02],\n",
              "       [ 1.28414805e+00, -4.06057957e-01],\n",
              "       [ 8.36755221e-02,  3.21588144e-01],\n",
              "       [ 1.96055811e+00,  2.88657636e-01],\n",
              "       [ 7.73119750e-01,  7.24619372e-01],\n",
              "       [ 1.38874829e+00, -4.76479518e-01],\n",
              "       [-9.65283743e-01,  1.46395784e-01],\n",
              "       [ 7.81682491e-01, -4.94448497e-01],\n",
              "       [-9.86699858e-01,  2.45183829e-01],\n",
              "       [ 1.71034292e+00, -2.08557731e-01],\n",
              "       [ 1.01373001e+00,  1.83628021e-01],\n",
              "       [ 1.43956837e+00, -3.30551892e-01],\n",
              "       [ 2.94245293e-02,  9.62139958e-01],\n",
              "       [-7.53998210e-02,  4.74758009e-01],\n",
              "       [ 8.88323444e-01, -5.96339659e-02],\n",
              "       [ 1.12546292e-01,  1.05343496e+00],\n",
              "       [ 9.14129553e-01,  4.71214879e-01],\n",
              "       [ 1.64511045e-02,  9.24156257e-01],\n",
              "       [ 2.52276389e-02,  9.25850942e-01],\n",
              "       [ 9.77155237e-01,  2.28068955e-01],\n",
              "       [ 1.98374862e+00,  4.72339695e-01],\n",
              "       [ 3.75417772e-02,  1.24103668e-01],\n",
              "       [-5.28604106e-01,  8.13777855e-01],\n",
              "       [-6.89442409e-01,  6.78778962e-01],\n",
              "       [ 1.70890326e+00,  8.58241527e-02],\n",
              "       [ 1.68380466e+00, -2.53390958e-01],\n",
              "       [-2.21368418e-01,  9.92556715e-01],\n",
              "       [ 2.76365981e-01,  9.86356940e-01],\n",
              "       [ 1.09910723e-01,  1.75141482e-01],\n",
              "       [ 3.18145650e-01, -1.99117513e-01],\n",
              "       [ 3.11516061e-01, -2.14531271e-01],\n",
              "       [ 5.30778580e-02,  2.07744757e-01],\n",
              "       [ 1.63087840e+00, -3.37500344e-01],\n",
              "       [ 8.25561941e-02, -1.06662914e-02],\n",
              "       [-7.76899813e-01,  5.48916246e-01],\n",
              "       [ 9.61668371e-01,  4.46548448e-01],\n",
              "       [ 7.81033956e-01, -5.99931341e-01],\n",
              "       [ 7.76244869e-01,  5.76420981e-01],\n",
              "       [ 5.14307407e-02,  3.59485021e-01],\n",
              "       [-2.24300891e-01,  1.04681203e+00],\n",
              "       [ 1.45059305e+00, -3.59355182e-01],\n",
              "       [-1.81770662e-02,  4.68081245e-01],\n",
              "       [ 5.99917534e-02,  6.17612865e-02],\n",
              "       [ 1.07873549e+00, -5.17894455e-01],\n",
              "       [-4.90579173e-01,  8.82855396e-01],\n",
              "       [ 3.80259036e-02,  2.95262957e-01],\n",
              "       [ 1.32696761e+00, -3.45420819e-01],\n",
              "       [ 6.27217905e-02,  2.51040149e-01],\n",
              "       [-2.11391186e-01,  9.34833731e-01],\n",
              "       [-2.59053475e-02,  8.32791807e-02],\n",
              "       [ 1.99900992e+00,  1.00017443e-01],\n",
              "       [ 6.32679231e-01,  7.75407915e-01]])"
            ]
          },
          "metadata": {},
          "execution_count": 7
        }
      ]
    },
    {
      "cell_type": "code",
      "source": [
        "y"
      ],
      "metadata": {
        "colab": {
          "base_uri": "https://localhost:8080/"
        },
        "id": "V6qG81DCDRKa",
        "outputId": "1478319a-21a3-40e0-d19f-0295bcc0fd1d"
      },
      "execution_count": 8,
      "outputs": [
        {
          "output_type": "execute_result",
          "data": {
            "text/plain": [
              "array([0, 1, 1, 1, 0, 1, 0, 1, 1, 0, 1, 1, 0, 1, 1, 0, 1, 0, 0, 0, 1, 0,\n",
              "       0, 1, 0, 0, 1, 1, 0, 1, 1, 0, 0, 1, 1, 1, 0, 0, 0, 1, 1, 0, 0, 0,\n",
              "       0, 0, 0, 0, 0, 0, 1, 0, 0, 1, 1, 0, 0, 0, 0, 1, 1, 1, 1, 1, 0, 1,\n",
              "       0, 1, 1, 0, 0, 1, 1, 1, 1, 0, 0, 1, 1, 1, 0, 0, 1, 0, 0, 1, 0, 0,\n",
              "       0, 0, 1, 1, 0, 0, 0, 0, 0, 1, 0, 0, 1, 0, 0, 1, 0, 1, 0, 1, 0, 1,\n",
              "       0, 0, 1, 0, 0, 1, 0, 1, 0, 1, 0, 1, 1, 1, 1, 1, 1, 1, 0, 0, 1, 1,\n",
              "       0, 1, 1, 0, 1, 0, 0, 1, 1, 1, 1, 0, 1, 1, 1, 0, 1, 0, 1, 1, 0, 0,\n",
              "       0, 1, 0, 0, 0, 1, 0, 1, 1, 0, 1, 0, 1, 1, 0, 1, 1, 1, 0, 1, 0, 1,\n",
              "       0, 1, 0, 1, 1, 1, 0, 1, 0, 0, 0, 1, 0, 0, 0, 0, 0, 0, 0, 0, 1, 0,\n",
              "       1, 1, 1, 1, 0, 1, 0, 1, 0, 1, 0, 1, 0, 1, 0, 0, 0, 0, 0, 0, 1, 1,\n",
              "       0, 0, 1, 1, 0, 0, 1, 1, 1, 1, 1, 1, 0, 0, 1, 0, 1, 0, 1, 1, 1, 1,\n",
              "       0, 1, 1, 1, 0, 1, 1, 0])"
            ]
          },
          "metadata": {},
          "execution_count": 8
        }
      ]
    },
    {
      "cell_type": "code",
      "source": [
        "plt.scatter(x[:,0], x[:,1], c=y, s=100)\n",
        "plt.show()y\n",
        "#data is non linear, if its linear then simple perceptron can be used\n",
        "# for non linear data, mlp is used"
      ],
      "metadata": {
        "colab": {
          "base_uri": "https://localhost:8080/",
          "height": 430
        },
        "id": "0VKyxEogDRNd",
        "outputId": "09dddaa3-6e1d-43be-f084-8177fd19e7f8"
      },
      "execution_count": 9,
      "outputs": [
        {
          "output_type": "display_data",
          "data": {
            "text/plain": [
              "<Figure size 640x480 with 1 Axes>"
            ],
            "image/png": "[encoded data removed]"
          },
          "metadata": {}
        }
      ]
    },
    {
      "cell_type": "code",
      "source": [
        "#building a model\n",
        "model = Sequential()\n",
        "model.add(Dense(10, activation='sigmoid',input_dim=2))\n",
        "model.add(Dense(10, activation='sigmoid'))\n",
        "model.add(Dense(10, activation='sigmoid'))\n",
        "model.add(Dense(10, activation='sigmoid'))\n",
        "model.add(Dense(10, activation='sigmoid'))\n",
        "model.add(Dense(10, activation='sigmoid'))\n",
        "model.add(Dense(10, activation='sigmoid'))\n",
        "model.add(Dense(10, activation='sigmoid'))\n",
        "model.add(Dense(10, activation='sigmoid'))\n",
        "model.add(Dense(10, activation='sigmoid'))\n",
        "model.add(Dense(10, activation='sigmoid'))\n",
        "model.add(Dense(10, activation='sigmoid'))\n",
        "model.add(Dense(10, activation='sigmoid'))\n",
        "model.add(Dense(1, activation='sigmoid'))\n"
      ],
      "metadata": {
        "id": "L11boeikDRad"
      },
      "execution_count": 12,
      "outputs": []
    },
    {
      "cell_type": "code",
      "source": [
        "model.compile(loss='binary_crossentropy',optimizer='adam',metrics=[\"accuracy\"])"
      ],
      "metadata": {
        "id": "5gFX_qgzDRdc"
      },
      "execution_count": 16,
      "outputs": []
    },
    {
      "cell_type": "code",
      "source": [
        "model.get_weights()[0]"
      ],
      "metadata": {
        "colab": {
          "base_uri": "https://localhost:8080/"
        },
        "id": "t4vWeZEZDRgj",
        "outputId": "7a108f39-b612-4d81-8ed6-81d0a838f706"
      },
      "execution_count": 17,
      "outputs": [
        {
          "output_type": "execute_result",
          "data": {
            "text/plain": [
              "array([[ 0.46065682, -0.11538845, -0.1772157 , -0.27187413,  0.4776458 ,\n",
              "        -0.10189319, -0.11042255,  0.3052352 ,  0.3715381 ,  0.415384  ],\n",
              "       [-0.47911155,  0.06040472,  0.06247413,  0.30157298, -0.4078473 ,\n",
              "         0.5797083 ,  0.12117338, -0.03318506, -0.6376373 ,  0.04868585]],\n",
              "      dtype=float32)"
            ]
          },
          "metadata": {},
          "execution_count": 17
        }
      ]
    },
    {
      "cell_type": "code",
      "source": [
        "old_weight=model.get_weights()[0]"
      ],
      "metadata": {
        "id": "68QM6y2yDRjK"
      },
      "execution_count": 18,
      "outputs": []
    },
    {
      "cell_type": "code",
      "source": [
        "from sklearn.model_selection import train_test_split\n",
        "x_train, x_test, y_train, y_test=train_test_split(x,y, test_size=0.2, random_state=1)"
      ],
      "metadata": {
        "id": "KxP64wa4DRl2"
      },
      "execution_count": 19,
      "outputs": []
    },
    {
      "cell_type": "code",
      "source": [
        "model.fit(x_train, y_train, validation_data=(x_test, y_test), epochs=100)"
      ],
      "metadata": {
        "colab": {
          "base_uri": "https://localhost:8080/"
        },
        "id": "pVSc9vAyDRox",
        "outputId": "655e2acc-d5c8-4245-c55b-d199a81959ab"
      },
      "execution_count": 20,
      "outputs": [
        {
          "output_type": "stream",
          "name": "stdout",
          "text": [
            "Epoch 1/100\n",
            "7/7 [==============================] - 10s 49ms/step - loss: 0.7520 - accuracy: 0.4900 - val_loss: 0.7140 - val_accuracy: 0.5400\n",
            "Epoch 2/100\n",
            "7/7 [==============================] - 0s 12ms/step - loss: 0.7399 - accuracy: 0.4900 - val_loss: 0.7073 - val_accuracy: 0.5400\n",
            "Epoch 3/100\n",
            "7/7 [==============================] - 0s 13ms/step - loss: 0.7306 - accuracy: 0.4900 - val_loss: 0.7014 - val_accuracy: 0.5400\n",
            "Epoch 4/100\n",
            "7/7 [==============================] - 0s 12ms/step - loss: 0.7216 - accuracy: 0.4900 - val_loss: 0.6971 - val_accuracy: 0.5400\n",
            "Epoch 5/100\n",
            "7/7 [==============================] - 0s 9ms/step - loss: 0.7143 - accuracy: 0.4900 - val_loss: 0.6939 - val_accuracy: 0.5400\n",
            "Epoch 6/100\n",
            "7/7 [==============================] - 0s 9ms/step - loss: 0.7083 - accuracy: 0.4900 - val_loss: 0.6917 - val_accuracy: 0.5400\n",
            "Epoch 7/100\n",
            "7/7 [==============================] - 0s 10ms/step - loss: 0.7046 - accuracy: 0.4900 - val_loss: 0.6904 - val_accuracy: 0.5400\n",
            "Epoch 8/100\n",
            "7/7 [==============================] - 0s 10ms/step - loss: 0.7007 - accuracy: 0.4900 - val_loss: 0.6900 - val_accuracy: 0.5400\n",
            "Epoch 9/100\n",
            "7/7 [==============================] - 0s 10ms/step - loss: 0.6982 - accuracy: 0.4900 - val_loss: 0.6900 - val_accuracy: 0.5400\n",
            "Epoch 10/100\n",
            "7/7 [==============================] - 0s 9ms/step - loss: 0.6970 - accuracy: 0.4900 - val_loss: 0.6901 - val_accuracy: 0.5400\n",
            "Epoch 11/100\n",
            "7/7 [==============================] - 0s 10ms/step - loss: 0.6959 - accuracy: 0.4900 - val_loss: 0.6906 - val_accuracy: 0.5400\n",
            "Epoch 12/100\n",
            "7/7 [==============================] - 0s 10ms/step - loss: 0.6950 - accuracy: 0.4900 - val_loss: 0.6911 - val_accuracy: 0.5400\n",
            "Epoch 13/100\n",
            "7/7 [==============================] - 0s 10ms/step - loss: 0.6942 - accuracy: 0.4900 - val_loss: 0.6918 - val_accuracy: 0.5400\n",
            "Epoch 14/100\n",
            "7/7 [==============================] - 0s 13ms/step - loss: 0.6936 - accuracy: 0.4900 - val_loss: 0.6923 - val_accuracy: 0.5400\n",
            "Epoch 15/100\n",
            "7/7 [==============================] - 0s 13ms/step - loss: 0.6935 - accuracy: 0.4900 - val_loss: 0.6929 - val_accuracy: 0.5400\n",
            "Epoch 16/100\n",
            "7/7 [==============================] - 0s 10ms/step - loss: 0.6933 - accuracy: 0.4900 - val_loss: 0.6930 - val_accuracy: 0.5400\n",
            "Epoch 17/100\n",
            "7/7 [==============================] - 0s 10ms/step - loss: 0.6934 - accuracy: 0.4700 - val_loss: 0.6935 - val_accuracy: 0.4600\n",
            "Epoch 18/100\n",
            "7/7 [==============================] - 0s 10ms/step - loss: 0.6931 - accuracy: 0.5100 - val_loss: 0.6933 - val_accuracy: 0.4600\n",
            "Epoch 19/100\n",
            "7/7 [==============================] - 0s 11ms/step - loss: 0.6931 - accuracy: 0.5100 - val_loss: 0.6931 - val_accuracy: 0.5400\n",
            "Epoch 20/100\n",
            "7/7 [==============================] - 0s 10ms/step - loss: 0.6932 - accuracy: 0.4900 - val_loss: 0.6927 - val_accuracy: 0.5400\n",
            "Epoch 21/100\n",
            "7/7 [==============================] - 0s 10ms/step - loss: 0.6933 - accuracy: 0.4900 - val_loss: 0.6924 - val_accuracy: 0.5400\n",
            "Epoch 22/100\n",
            "7/7 [==============================] - 0s 11ms/step - loss: 0.6934 - accuracy: 0.4900 - val_loss: 0.6924 - val_accuracy: 0.5400\n",
            "Epoch 23/100\n",
            "7/7 [==============================] - 0s 17ms/step - loss: 0.6934 - accuracy: 0.4900 - val_loss: 0.6926 - val_accuracy: 0.5400\n",
            "Epoch 24/100\n",
            "7/7 [==============================] - 0s 16ms/step - loss: 0.6936 - accuracy: 0.4900 - val_loss: 0.6931 - val_accuracy: 0.5400\n",
            "Epoch 25/100\n",
            "7/7 [==============================] - 0s 18ms/step - loss: 0.6933 - accuracy: 0.4900 - val_loss: 0.6930 - val_accuracy: 0.5400\n",
            "Epoch 26/100\n",
            "7/7 [==============================] - 0s 18ms/step - loss: 0.6932 - accuracy: 0.4900 - val_loss: 0.6933 - val_accuracy: 0.4600\n",
            "Epoch 27/100\n",
            "7/7 [==============================] - 0s 16ms/step - loss: 0.6932 - accuracy: 0.4900 - val_loss: 0.6929 - val_accuracy: 0.5400\n",
            "Epoch 28/100\n",
            "7/7 [==============================] - 0s 16ms/step - loss: 0.6934 - accuracy: 0.4900 - val_loss: 0.6925 - val_accuracy: 0.5400\n",
            "Epoch 29/100\n",
            "7/7 [==============================] - 0s 14ms/step - loss: 0.6935 - accuracy: 0.4900 - val_loss: 0.6929 - val_accuracy: 0.5400\n",
            "Epoch 30/100\n",
            "7/7 [==============================] - 0s 17ms/step - loss: 0.6933 - accuracy: 0.4900 - val_loss: 0.6928 - val_accuracy: 0.5400\n",
            "Epoch 31/100\n",
            "7/7 [==============================] - 0s 16ms/step - loss: 0.6933 - accuracy: 0.4900 - val_loss: 0.6929 - val_accuracy: 0.5400\n",
            "Epoch 32/100\n",
            "7/7 [==============================] - 0s 17ms/step - loss: 0.6933 - accuracy: 0.4900 - val_loss: 0.6926 - val_accuracy: 0.5400\n",
            "Epoch 33/100\n",
            "7/7 [==============================] - 0s 18ms/step - loss: 0.6933 - accuracy: 0.4900 - val_loss: 0.6928 - val_accuracy: 0.5400\n",
            "Epoch 34/100\n",
            "7/7 [==============================] - 0s 16ms/step - loss: 0.6932 - accuracy: 0.4900 - val_loss: 0.6929 - val_accuracy: 0.5400\n",
            "Epoch 35/100\n",
            "7/7 [==============================] - 0s 16ms/step - loss: 0.6933 - accuracy: 0.4900 - val_loss: 0.6928 - val_accuracy: 0.5400\n",
            "Epoch 36/100\n",
            "7/7 [==============================] - 0s 18ms/step - loss: 0.6933 - accuracy: 0.4800 - val_loss: 0.6932 - val_accuracy: 0.4600\n",
            "Epoch 37/100\n",
            "7/7 [==============================] - 0s 16ms/step - loss: 0.6931 - accuracy: 0.5100 - val_loss: 0.6932 - val_accuracy: 0.4600\n",
            "Epoch 38/100\n",
            "7/7 [==============================] - 0s 16ms/step - loss: 0.6932 - accuracy: 0.5100 - val_loss: 0.6933 - val_accuracy: 0.4600\n",
            "Epoch 39/100\n",
            "7/7 [==============================] - 0s 18ms/step - loss: 0.6931 - accuracy: 0.5100 - val_loss: 0.6934 - val_accuracy: 0.4600\n",
            "Epoch 40/100\n",
            "7/7 [==============================] - 0s 16ms/step - loss: 0.6932 - accuracy: 0.5100 - val_loss: 0.6936 - val_accuracy: 0.4600\n",
            "Epoch 41/100\n",
            "7/7 [==============================] - 0s 15ms/step - loss: 0.6931 - accuracy: 0.5100 - val_loss: 0.6935 - val_accuracy: 0.4600\n",
            "Epoch 42/100\n",
            "7/7 [==============================] - 0s 10ms/step - loss: 0.6933 - accuracy: 0.5100 - val_loss: 0.6940 - val_accuracy: 0.4600\n",
            "Epoch 43/100\n",
            "7/7 [==============================] - 0s 10ms/step - loss: 0.6930 - accuracy: 0.5100 - val_loss: 0.6940 - val_accuracy: 0.4600\n",
            "Epoch 44/100\n",
            "7/7 [==============================] - 0s 10ms/step - loss: 0.6931 - accuracy: 0.5100 - val_loss: 0.6944 - val_accuracy: 0.4600\n",
            "Epoch 45/100\n",
            "7/7 [==============================] - 0s 10ms/step - loss: 0.6930 - accuracy: 0.5100 - val_loss: 0.6951 - val_accuracy: 0.4600\n",
            "Epoch 46/100\n",
            "7/7 [==============================] - 0s 14ms/step - loss: 0.6930 - accuracy: 0.5100 - val_loss: 0.6956 - val_accuracy: 0.4600\n",
            "Epoch 47/100\n",
            "7/7 [==============================] - 0s 10ms/step - loss: 0.6930 - accuracy: 0.5100 - val_loss: 0.6951 - val_accuracy: 0.4600\n",
            "Epoch 48/100\n",
            "7/7 [==============================] - 0s 13ms/step - loss: 0.6930 - accuracy: 0.5100 - val_loss: 0.6947 - val_accuracy: 0.4600\n",
            "Epoch 49/100\n",
            "7/7 [==============================] - 0s 10ms/step - loss: 0.6930 - accuracy: 0.5100 - val_loss: 0.6945 - val_accuracy: 0.4600\n",
            "Epoch 50/100\n",
            "7/7 [==============================] - 0s 10ms/step - loss: 0.6929 - accuracy: 0.5100 - val_loss: 0.6950 - val_accuracy: 0.4600\n",
            "Epoch 51/100\n",
            "7/7 [==============================] - 0s 9ms/step - loss: 0.6935 - accuracy: 0.5100 - val_loss: 0.6960 - val_accuracy: 0.4600\n",
            "Epoch 52/100\n",
            "7/7 [==============================] - 0s 10ms/step - loss: 0.6931 - accuracy: 0.5100 - val_loss: 0.6955 - val_accuracy: 0.4600\n",
            "Epoch 53/100\n",
            "7/7 [==============================] - 0s 10ms/step - loss: 0.6931 - accuracy: 0.5100 - val_loss: 0.6952 - val_accuracy: 0.4600\n",
            "Epoch 54/100\n",
            "7/7 [==============================] - 0s 10ms/step - loss: 0.6935 - accuracy: 0.5100 - val_loss: 0.6961 - val_accuracy: 0.4600\n",
            "Epoch 55/100\n",
            "7/7 [==============================] - 0s 11ms/step - loss: 0.6932 - accuracy: 0.5100 - val_loss: 0.6954 - val_accuracy: 0.4600\n",
            "Epoch 56/100\n",
            "7/7 [==============================] - 0s 12ms/step - loss: 0.6929 - accuracy: 0.5100 - val_loss: 0.6959 - val_accuracy: 0.4600\n",
            "Epoch 57/100\n",
            "7/7 [==============================] - 0s 13ms/step - loss: 0.6930 - accuracy: 0.5100 - val_loss: 0.6967 - val_accuracy: 0.4600\n",
            "Epoch 58/100\n",
            "7/7 [==============================] - 0s 12ms/step - loss: 0.6932 - accuracy: 0.5100 - val_loss: 0.6973 - val_accuracy: 0.4600\n",
            "Epoch 59/100\n",
            "7/7 [==============================] - 0s 14ms/step - loss: 0.6932 - accuracy: 0.5100 - val_loss: 0.6973 - val_accuracy: 0.4600\n",
            "Epoch 60/100\n",
            "7/7 [==============================] - 0s 12ms/step - loss: 0.6931 - accuracy: 0.5100 - val_loss: 0.6968 - val_accuracy: 0.4600\n",
            "Epoch 61/100\n",
            "7/7 [==============================] - 0s 10ms/step - loss: 0.6931 - accuracy: 0.5100 - val_loss: 0.6967 - val_accuracy: 0.4600\n",
            "Epoch 62/100\n",
            "7/7 [==============================] - 0s 10ms/step - loss: 0.6931 - accuracy: 0.5100 - val_loss: 0.6964 - val_accuracy: 0.4600\n",
            "Epoch 63/100\n",
            "7/7 [==============================] - 0s 10ms/step - loss: 0.6931 - accuracy: 0.5100 - val_loss: 0.6957 - val_accuracy: 0.4600\n",
            "Epoch 64/100\n",
            "7/7 [==============================] - 0s 12ms/step - loss: 0.6930 - accuracy: 0.5100 - val_loss: 0.6950 - val_accuracy: 0.4600\n",
            "Epoch 65/100\n",
            "7/7 [==============================] - 0s 12ms/step - loss: 0.6932 - accuracy: 0.5100 - val_loss: 0.6943 - val_accuracy: 0.4600\n",
            "Epoch 66/100\n",
            "7/7 [==============================] - 0s 10ms/step - loss: 0.6931 - accuracy: 0.5100 - val_loss: 0.6943 - val_accuracy: 0.4600\n",
            "Epoch 67/100\n",
            "7/7 [==============================] - 0s 12ms/step - loss: 0.6930 - accuracy: 0.5100 - val_loss: 0.6944 - val_accuracy: 0.4600\n",
            "Epoch 68/100\n",
            "7/7 [==============================] - 0s 10ms/step - loss: 0.6931 - accuracy: 0.5100 - val_loss: 0.6941 - val_accuracy: 0.4600\n",
            "Epoch 69/100\n",
            "7/7 [==============================] - 0s 13ms/step - loss: 0.6932 - accuracy: 0.5100 - val_loss: 0.6940 - val_accuracy: 0.4600\n",
            "Epoch 70/100\n",
            "7/7 [==============================] - 0s 9ms/step - loss: 0.6930 - accuracy: 0.5100 - val_loss: 0.6944 - val_accuracy: 0.4600\n",
            "Epoch 71/100\n",
            "7/7 [==============================] - 0s 11ms/step - loss: 0.6930 - accuracy: 0.5100 - val_loss: 0.6946 - val_accuracy: 0.4600\n",
            "Epoch 72/100\n",
            "7/7 [==============================] - 0s 11ms/step - loss: 0.6930 - accuracy: 0.5100 - val_loss: 0.6948 - val_accuracy: 0.4600\n",
            "Epoch 73/100\n",
            "7/7 [==============================] - 0s 10ms/step - loss: 0.6930 - accuracy: 0.5100 - val_loss: 0.6944 - val_accuracy: 0.4600\n",
            "Epoch 74/100\n",
            "7/7 [==============================] - 0s 12ms/step - loss: 0.6933 - accuracy: 0.5100 - val_loss: 0.6940 - val_accuracy: 0.4600\n",
            "Epoch 75/100\n",
            "7/7 [==============================] - 0s 10ms/step - loss: 0.6930 - accuracy: 0.5100 - val_loss: 0.6941 - val_accuracy: 0.4600\n",
            "Epoch 76/100\n",
            "7/7 [==============================] - 0s 10ms/step - loss: 0.6930 - accuracy: 0.5100 - val_loss: 0.6942 - val_accuracy: 0.4600\n",
            "Epoch 77/100\n",
            "7/7 [==============================] - 0s 10ms/step - loss: 0.6931 - accuracy: 0.5100 - val_loss: 0.6943 - val_accuracy: 0.4600\n",
            "Epoch 78/100\n",
            "7/7 [==============================] - 0s 10ms/step - loss: 0.6931 - accuracy: 0.5100 - val_loss: 0.6942 - val_accuracy: 0.4600\n",
            "Epoch 79/100\n",
            "7/7 [==============================] - 0s 10ms/step - loss: 0.6929 - accuracy: 0.5100 - val_loss: 0.6945 - val_accuracy: 0.4600\n",
            "Epoch 80/100\n",
            "7/7 [==============================] - 0s 10ms/step - loss: 0.6931 - accuracy: 0.5100 - val_loss: 0.6949 - val_accuracy: 0.4600\n",
            "Epoch 81/100\n",
            "7/7 [==============================] - 0s 13ms/step - loss: 0.6929 - accuracy: 0.5100 - val_loss: 0.6944 - val_accuracy: 0.4600\n",
            "Epoch 82/100\n",
            "7/7 [==============================] - 0s 10ms/step - loss: 0.6931 - accuracy: 0.5100 - val_loss: 0.6939 - val_accuracy: 0.4600\n",
            "Epoch 83/100\n",
            "7/7 [==============================] - 0s 9ms/step - loss: 0.6930 - accuracy: 0.5100 - val_loss: 0.6939 - val_accuracy: 0.4600\n",
            "Epoch 84/100\n",
            "7/7 [==============================] - 0s 11ms/step - loss: 0.6930 - accuracy: 0.5100 - val_loss: 0.6938 - val_accuracy: 0.4600\n",
            "Epoch 85/100\n",
            "7/7 [==============================] - 0s 13ms/step - loss: 0.6931 - accuracy: 0.5100 - val_loss: 0.6941 - val_accuracy: 0.4600\n",
            "Epoch 86/100\n",
            "7/7 [==============================] - 0s 9ms/step - loss: 0.6930 - accuracy: 0.5100 - val_loss: 0.6942 - val_accuracy: 0.4600\n",
            "Epoch 87/100\n",
            "7/7 [==============================] - 0s 10ms/step - loss: 0.6931 - accuracy: 0.5100 - val_loss: 0.6946 - val_accuracy: 0.4600\n",
            "Epoch 88/100\n",
            "7/7 [==============================] - 0s 12ms/step - loss: 0.6930 - accuracy: 0.5100 - val_loss: 0.6948 - val_accuracy: 0.4600\n",
            "Epoch 89/100\n",
            "7/7 [==============================] - 0s 9ms/step - loss: 0.6930 - accuracy: 0.5100 - val_loss: 0.6958 - val_accuracy: 0.4600\n",
            "Epoch 90/100\n",
            "7/7 [==============================] - 0s 11ms/step - loss: 0.6930 - accuracy: 0.5100 - val_loss: 0.6961 - val_accuracy: 0.4600\n",
            "Epoch 91/100\n",
            "7/7 [==============================] - 0s 10ms/step - loss: 0.6931 - accuracy: 0.5100 - val_loss: 0.6965 - val_accuracy: 0.4600\n",
            "Epoch 92/100\n",
            "7/7 [==============================] - 0s 11ms/step - loss: 0.6930 - accuracy: 0.5100 - val_loss: 0.6958 - val_accuracy: 0.4600\n",
            "Epoch 93/100\n",
            "7/7 [==============================] - 0s 13ms/step - loss: 0.6931 - accuracy: 0.5100 - val_loss: 0.6955 - val_accuracy: 0.4600\n",
            "Epoch 94/100\n",
            "7/7 [==============================] - 0s 12ms/step - loss: 0.6930 - accuracy: 0.5100 - val_loss: 0.6956 - val_accuracy: 0.4600\n",
            "Epoch 95/100\n",
            "7/7 [==============================] - 0s 10ms/step - loss: 0.6931 - accuracy: 0.5100 - val_loss: 0.6959 - val_accuracy: 0.4600\n",
            "Epoch 96/100\n",
            "7/7 [==============================] - 0s 10ms/step - loss: 0.6930 - accuracy: 0.5100 - val_loss: 0.6959 - val_accuracy: 0.4600\n",
            "Epoch 97/100\n",
            "7/7 [==============================] - 0s 14ms/step - loss: 0.6931 - accuracy: 0.5100 - val_loss: 0.6958 - val_accuracy: 0.4600\n",
            "Epoch 98/100\n",
            "7/7 [==============================] - 0s 10ms/step - loss: 0.6932 - accuracy: 0.5100 - val_loss: 0.6963 - val_accuracy: 0.4600\n",
            "Epoch 99/100\n",
            "7/7 [==============================] - 0s 12ms/step - loss: 0.6932 - accuracy: 0.5100 - val_loss: 0.6960 - val_accuracy: 0.4600\n",
            "Epoch 100/100\n",
            "7/7 [==============================] - 0s 11ms/step - loss: 0.6931 - accuracy: 0.5100 - val_loss: 0.6963 - val_accuracy: 0.4600\n"
          ]
        },
        {
          "output_type": "execute_result",
          "data": {
            "text/plain": [
              "<keras.callbacks.History at 0x7cb071de6200>"
            ]
          },
          "metadata": {},
          "execution_count": 20
        }
      ]
    },
    {
      "cell_type": "code",
      "source": [
        "new_weight=model.get_weights()[0]"
      ],
      "metadata": {
        "id": "hZ5YzXFMDRsQ"
      },
      "execution_count": 21,
      "outputs": []
    },
    {
      "cell_type": "code",
      "source": [
        "new_weight"
      ],
      "metadata": {
        "colab": {
          "base_uri": "https://localhost:8080/"
        },
        "id": "qU26RWmCDRu3",
        "outputId": "2a898f9f-4635-4ee0-b63f-2827123232ec"
      },
      "execution_count": 22,
      "outputs": [
        {
          "output_type": "execute_result",
          "data": {
            "text/plain": [
              "array([[ 0.4628981 , -0.11602423, -0.17008668, -0.2688217 ,  0.47830725,\n",
              "        -0.10084668, -0.10870993,  0.3017473 ,  0.37149733,  0.41364384],\n",
              "       [-0.48078975,  0.0608759 ,  0.05734993,  0.2993503 , -0.40836728,\n",
              "         0.57894295,  0.11991538, -0.03064468, -0.6376299 ,  0.0500398 ]],\n",
              "      dtype=float32)"
            ]
          },
          "metadata": {},
          "execution_count": 22
        }
      ]
    },
    {
      "cell_type": "code",
      "source": [
        "old_weight"
      ],
      "metadata": {
        "colab": {
          "base_uri": "https://localhost:8080/"
        },
        "id": "5c0XuyBiDRx3",
        "outputId": "0375a5d1-be07-464e-88e9-34cb2c2ffbb1"
      },
      "execution_count": 23,
      "outputs": [
        {
          "output_type": "execute_result",
          "data": {
            "text/plain": [
              "array([[ 0.46065682, -0.11538845, -0.1772157 , -0.27187413,  0.4776458 ,\n",
              "        -0.10189319, -0.11042255,  0.3052352 ,  0.3715381 ,  0.415384  ],\n",
              "       [-0.47911155,  0.06040472,  0.06247413,  0.30157298, -0.4078473 ,\n",
              "         0.5797083 ,  0.12117338, -0.03318506, -0.6376373 ,  0.04868585]],\n",
              "      dtype=float32)"
            ]
          },
          "metadata": {},
          "execution_count": 23
        }
      ]
    },
    {
      "cell_type": "code",
      "source": [
        "model.optimizer.get_config()['learning_rate']\n",
        "#sytem has taken this learning rate"
      ],
      "metadata": {
        "colab": {
          "base_uri": "https://localhost:8080/"
        },
        "id": "KbHERYWLMO28",
        "outputId": "aa693bae-71ec-454f-bb98-81342a61b7ac"
      },
      "execution_count": 24,
      "outputs": [
        {
          "output_type": "execute_result",
          "data": {
            "text/plain": [
              "0.001"
            ]
          },
          "metadata": {},
          "execution_count": 24
        }
      ]
    },
    {
      "cell_type": "code",
      "source": [
        "gradient=(old_weight-new_weight)/0.001\n",
        "#gradient is weightnew=weightold-eta*partial derivative, using\n",
        "#that formula get gradient equation(partial derivative alone)\n",
        "\n",
        "percent_change = abs(100*(old_weight-new_weight)/0.001)"
      ],
      "metadata": {
        "id": "a18eGu3YDR0n"
      },
      "execution_count": 25,
      "outputs": []
    },
    {
      "cell_type": "code",
      "source": [
        "gradient"
      ],
      "metadata": {
        "colab": {
          "base_uri": "https://localhost:8080/"
        },
        "id": "FGcNGZGvMN2U",
        "outputId": "f74da4ef-0a63-453e-bd6c-92a806e8225c"
      },
      "execution_count": 26,
      "outputs": [
        {
          "output_type": "execute_result",
          "data": {
            "text/plain": [
              "array([[-2.2412837 ,  0.63578033, -7.129013  , -3.052443  , -0.6614327 ,\n",
              "        -1.0465086 , -1.7126201 ,  3.4879146 ,  0.04076957,  1.7401575 ],\n",
              "       [ 1.6781985 , -0.47118214,  5.1242    ,  2.222687  ,  0.5199909 ,\n",
              "         0.7653236 ,  1.2580006 , -2.5403833 , -0.00739098, -1.353953  ]],\n",
              "      dtype=float32)"
            ]
          },
          "metadata": {},
          "execution_count": 26
        }
      ]
    },
    {
      "cell_type": "code",
      "source": [
        "percent_change"
      ],
      "metadata": {
        "colab": {
          "base_uri": "https://localhost:8080/"
        },
        "id": "3MgmwdXcDR34",
        "outputId": "dce5737e-3ee0-48cf-b53e-70a180b26439"
      },
      "execution_count": 27,
      "outputs": [
        {
          "output_type": "execute_result",
          "data": {
            "text/plain": [
              "array([[224.12836   ,  63.578037  , 712.9013    , 305.24432   ,\n",
              "         66.14327   , 104.65085   , 171.26202   , 348.79147   ,\n",
              "          4.0769577 , 174.01575   ],\n",
              "       [167.81985   ,  47.118214  , 512.42      , 222.26869   ,\n",
              "         51.99909   ,  76.532364  , 125.800064  , 254.03831   ,\n",
              "          0.73909754, 135.3953    ]], dtype=float32)"
            ]
          },
          "metadata": {},
          "execution_count": 27
        }
      ]
    },
    {
      "cell_type": "code",
      "source": [],
      "metadata": {
        "id": "wuLsUwhyDR6Y"
      },
      "execution_count": null,
      "outputs": []
    },
    {
      "cell_type": "markdown",
      "source": [
        "# handle vanishing gradient"
      ],
      "metadata": {
        "id": "fyRd7ulLNoRb"
      }
    },
    {
      "cell_type": "markdown",
      "source": [
        "## approch 1: reduce complexity"
      ],
      "metadata": {
        "id": "2J1iAQaoN0RC"
      }
    },
    {
      "cell_type": "code",
      "source": [
        "model1 = Sequential()\n",
        "model1.add(Dense(10, activation='sigmoid',input_dim=2))\n",
        "model1.add(Dense(10, activation='sigmoid'))\n",
        "model1.add(Dense(1, activation='sigmoid'))\n",
        "model1.compile(loss='binary_crossentropy',optimizer='adam',metrics=[\"accuracy\"])"
      ],
      "metadata": {
        "id": "HPO8YU_YNkJD"
      },
      "execution_count": 30,
      "outputs": []
    },
    {
      "cell_type": "code",
      "source": [
        "model1.fit(x_train, y_train, validation_data=(x_test, y_test), epochs=100)"
      ],
      "metadata": {
        "colab": {
          "base_uri": "https://localhost:8080/"
        },
        "id": "oAaaLROYNkMC",
        "outputId": "4676dc5c-9f14-4c81-b1c4-59847c0f5abb"
      },
      "execution_count": 31,
      "outputs": [
        {
          "output_type": "stream",
          "name": "stdout",
          "text": [
            "Epoch 1/100\n",
            "7/7 [==============================] - 2s 29ms/step - loss: 0.7991 - accuracy: 0.5100 - val_loss: 0.8366 - val_accuracy: 0.4600\n",
            "Epoch 2/100\n",
            "7/7 [==============================] - 0s 8ms/step - loss: 0.7858 - accuracy: 0.5100 - val_loss: 0.8197 - val_accuracy: 0.4600\n",
            "Epoch 3/100\n",
            "7/7 [==============================] - 0s 8ms/step - loss: 0.7724 - accuracy: 0.5100 - val_loss: 0.8046 - val_accuracy: 0.4600\n",
            "Epoch 4/100\n",
            "7/7 [==============================] - 0s 10ms/step - loss: 0.7614 - accuracy: 0.5100 - val_loss: 0.7912 - val_accuracy: 0.4600\n",
            "Epoch 5/100\n",
            "7/7 [==============================] - 0s 8ms/step - loss: 0.7519 - accuracy: 0.5100 - val_loss: 0.7801 - val_accuracy: 0.4600\n",
            "Epoch 6/100\n",
            "7/7 [==============================] - 0s 7ms/step - loss: 0.7450 - accuracy: 0.5100 - val_loss: 0.7697 - val_accuracy: 0.4600\n",
            "Epoch 7/100\n",
            "7/7 [==============================] - 0s 7ms/step - loss: 0.7372 - accuracy: 0.5100 - val_loss: 0.7616 - val_accuracy: 0.4600\n",
            "Epoch 8/100\n",
            "7/7 [==============================] - 0s 7ms/step - loss: 0.7316 - accuracy: 0.5100 - val_loss: 0.7545 - val_accuracy: 0.4600\n",
            "Epoch 9/100\n",
            "7/7 [==============================] - 0s 10ms/step - loss: 0.7261 - accuracy: 0.5100 - val_loss: 0.7481 - val_accuracy: 0.4600\n",
            "Epoch 10/100\n",
            "7/7 [==============================] - 0s 8ms/step - loss: 0.7219 - accuracy: 0.5100 - val_loss: 0.7415 - val_accuracy: 0.4600\n",
            "Epoch 11/100\n",
            "7/7 [==============================] - 0s 10ms/step - loss: 0.7178 - accuracy: 0.5100 - val_loss: 0.7351 - val_accuracy: 0.4600\n",
            "Epoch 12/100\n",
            "7/7 [==============================] - 0s 10ms/step - loss: 0.7137 - accuracy: 0.5100 - val_loss: 0.7300 - val_accuracy: 0.4600\n",
            "Epoch 13/100\n",
            "7/7 [==============================] - 0s 10ms/step - loss: 0.7102 - accuracy: 0.5100 - val_loss: 0.7259 - val_accuracy: 0.4600\n",
            "Epoch 14/100\n",
            "7/7 [==============================] - 0s 10ms/step - loss: 0.7075 - accuracy: 0.5100 - val_loss: 0.7220 - val_accuracy: 0.4600\n",
            "Epoch 15/100\n",
            "7/7 [==============================] - 0s 7ms/step - loss: 0.7051 - accuracy: 0.5100 - val_loss: 0.7186 - val_accuracy: 0.4600\n",
            "Epoch 16/100\n",
            "7/7 [==============================] - 0s 7ms/step - loss: 0.7027 - accuracy: 0.5100 - val_loss: 0.7158 - val_accuracy: 0.4600\n",
            "Epoch 17/100\n",
            "7/7 [==============================] - 0s 8ms/step - loss: 0.7017 - accuracy: 0.5100 - val_loss: 0.7120 - val_accuracy: 0.4600\n",
            "Epoch 18/100\n",
            "7/7 [==============================] - 0s 10ms/step - loss: 0.6989 - accuracy: 0.5100 - val_loss: 0.7102 - val_accuracy: 0.4600\n",
            "Epoch 19/100\n",
            "7/7 [==============================] - 0s 8ms/step - loss: 0.6973 - accuracy: 0.5100 - val_loss: 0.7080 - val_accuracy: 0.4600\n",
            "Epoch 20/100\n",
            "7/7 [==============================] - 0s 7ms/step - loss: 0.6959 - accuracy: 0.5100 - val_loss: 0.7057 - val_accuracy: 0.4600\n",
            "Epoch 21/100\n",
            "7/7 [==============================] - 0s 7ms/step - loss: 0.6943 - accuracy: 0.5100 - val_loss: 0.7032 - val_accuracy: 0.4600\n",
            "Epoch 22/100\n",
            "7/7 [==============================] - 0s 10ms/step - loss: 0.6928 - accuracy: 0.5100 - val_loss: 0.7008 - val_accuracy: 0.4600\n",
            "Epoch 23/100\n",
            "7/7 [==============================] - 0s 8ms/step - loss: 0.6914 - accuracy: 0.5100 - val_loss: 0.6985 - val_accuracy: 0.4600\n",
            "Epoch 24/100\n",
            "7/7 [==============================] - 0s 8ms/step - loss: 0.6900 - accuracy: 0.5100 - val_loss: 0.6972 - val_accuracy: 0.4600\n",
            "Epoch 25/100\n",
            "7/7 [==============================] - 0s 8ms/step - loss: 0.6889 - accuracy: 0.5100 - val_loss: 0.6962 - val_accuracy: 0.4600\n",
            "Epoch 26/100\n",
            "7/7 [==============================] - 0s 12ms/step - loss: 0.6878 - accuracy: 0.5100 - val_loss: 0.6949 - val_accuracy: 0.4600\n",
            "Epoch 27/100\n",
            "7/7 [==============================] - 0s 8ms/step - loss: 0.6867 - accuracy: 0.5100 - val_loss: 0.6938 - val_accuracy: 0.4600\n",
            "Epoch 28/100\n",
            "7/7 [==============================] - 0s 10ms/step - loss: 0.6857 - accuracy: 0.5100 - val_loss: 0.6925 - val_accuracy: 0.4600\n",
            "Epoch 29/100\n",
            "7/7 [==============================] - 0s 8ms/step - loss: 0.6849 - accuracy: 0.5100 - val_loss: 0.6921 - val_accuracy: 0.4600\n",
            "Epoch 30/100\n",
            "7/7 [==============================] - 0s 7ms/step - loss: 0.6836 - accuracy: 0.5100 - val_loss: 0.6903 - val_accuracy: 0.4600\n",
            "Epoch 31/100\n",
            "7/7 [==============================] - 0s 9ms/step - loss: 0.6824 - accuracy: 0.5100 - val_loss: 0.6886 - val_accuracy: 0.4600\n",
            "Epoch 32/100\n",
            "7/7 [==============================] - 0s 10ms/step - loss: 0.6813 - accuracy: 0.5100 - val_loss: 0.6872 - val_accuracy: 0.4600\n",
            "Epoch 33/100\n",
            "7/7 [==============================] - 0s 8ms/step - loss: 0.6801 - accuracy: 0.5100 - val_loss: 0.6861 - val_accuracy: 0.4600\n",
            "Epoch 34/100\n",
            "7/7 [==============================] - 0s 8ms/step - loss: 0.6791 - accuracy: 0.5100 - val_loss: 0.6851 - val_accuracy: 0.4600\n",
            "Epoch 35/100\n",
            "7/7 [==============================] - 0s 7ms/step - loss: 0.6779 - accuracy: 0.5100 - val_loss: 0.6840 - val_accuracy: 0.4600\n",
            "Epoch 36/100\n",
            "7/7 [==============================] - 0s 8ms/step - loss: 0.6767 - accuracy: 0.5200 - val_loss: 0.6824 - val_accuracy: 0.5400\n",
            "Epoch 37/100\n",
            "7/7 [==============================] - 0s 10ms/step - loss: 0.6755 - accuracy: 0.6200 - val_loss: 0.6806 - val_accuracy: 0.5800\n",
            "Epoch 38/100\n",
            "7/7 [==============================] - 0s 8ms/step - loss: 0.6742 - accuracy: 0.6800 - val_loss: 0.6790 - val_accuracy: 0.6400\n",
            "Epoch 39/100\n",
            "7/7 [==============================] - 0s 10ms/step - loss: 0.6729 - accuracy: 0.7050 - val_loss: 0.6774 - val_accuracy: 0.6600\n",
            "Epoch 40/100\n",
            "7/7 [==============================] - 0s 8ms/step - loss: 0.6716 - accuracy: 0.7250 - val_loss: 0.6757 - val_accuracy: 0.7400\n",
            "Epoch 41/100\n",
            "7/7 [==============================] - 0s 10ms/step - loss: 0.6702 - accuracy: 0.7500 - val_loss: 0.6739 - val_accuracy: 0.7600\n",
            "Epoch 42/100\n",
            "7/7 [==============================] - 0s 11ms/step - loss: 0.6690 - accuracy: 0.7550 - val_loss: 0.6723 - val_accuracy: 0.7200\n",
            "Epoch 43/100\n",
            "7/7 [==============================] - 0s 10ms/step - loss: 0.6677 - accuracy: 0.7350 - val_loss: 0.6708 - val_accuracy: 0.7000\n",
            "Epoch 44/100\n",
            "7/7 [==============================] - 0s 10ms/step - loss: 0.6665 - accuracy: 0.7250 - val_loss: 0.6692 - val_accuracy: 0.7000\n",
            "Epoch 45/100\n",
            "7/7 [==============================] - 0s 8ms/step - loss: 0.6650 - accuracy: 0.7300 - val_loss: 0.6675 - val_accuracy: 0.7200\n",
            "Epoch 46/100\n",
            "7/7 [==============================] - 0s 7ms/step - loss: 0.6636 - accuracy: 0.7300 - val_loss: 0.6661 - val_accuracy: 0.7200\n",
            "Epoch 47/100\n",
            "7/7 [==============================] - 0s 7ms/step - loss: 0.6621 - accuracy: 0.7350 - val_loss: 0.6647 - val_accuracy: 0.7200\n",
            "Epoch 48/100\n",
            "7/7 [==============================] - 0s 8ms/step - loss: 0.6606 - accuracy: 0.7300 - val_loss: 0.6635 - val_accuracy: 0.7000\n",
            "Epoch 49/100\n",
            "7/7 [==============================] - 0s 10ms/step - loss: 0.6590 - accuracy: 0.7400 - val_loss: 0.6620 - val_accuracy: 0.7200\n",
            "Epoch 50/100\n",
            "7/7 [==============================] - 0s 10ms/step - loss: 0.6574 - accuracy: 0.7400 - val_loss: 0.6602 - val_accuracy: 0.7400\n",
            "Epoch 51/100\n",
            "7/7 [==============================] - 0s 7ms/step - loss: 0.6559 - accuracy: 0.7350 - val_loss: 0.6584 - val_accuracy: 0.7400\n",
            "Epoch 52/100\n",
            "7/7 [==============================] - 0s 7ms/step - loss: 0.6543 - accuracy: 0.7400 - val_loss: 0.6566 - val_accuracy: 0.7400\n",
            "Epoch 53/100\n",
            "7/7 [==============================] - 0s 10ms/step - loss: 0.6525 - accuracy: 0.7450 - val_loss: 0.6552 - val_accuracy: 0.7400\n",
            "Epoch 54/100\n",
            "7/7 [==============================] - 0s 8ms/step - loss: 0.6507 - accuracy: 0.7450 - val_loss: 0.6537 - val_accuracy: 0.7400\n",
            "Epoch 55/100\n",
            "7/7 [==============================] - 0s 10ms/step - loss: 0.6491 - accuracy: 0.7500 - val_loss: 0.6527 - val_accuracy: 0.7000\n",
            "Epoch 56/100\n",
            "7/7 [==============================] - 0s 8ms/step - loss: 0.6469 - accuracy: 0.7500 - val_loss: 0.6510 - val_accuracy: 0.7200\n",
            "Epoch 57/100\n",
            "7/7 [==============================] - 0s 11ms/step - loss: 0.6450 - accuracy: 0.7500 - val_loss: 0.6491 - val_accuracy: 0.7200\n",
            "Epoch 58/100\n",
            "7/7 [==============================] - 0s 12ms/step - loss: 0.6433 - accuracy: 0.7600 - val_loss: 0.6477 - val_accuracy: 0.7400\n",
            "Epoch 59/100\n",
            "7/7 [==============================] - 0s 7ms/step - loss: 0.6410 - accuracy: 0.7700 - val_loss: 0.6458 - val_accuracy: 0.7400\n",
            "Epoch 60/100\n",
            "7/7 [==============================] - 0s 10ms/step - loss: 0.6390 - accuracy: 0.7550 - val_loss: 0.6435 - val_accuracy: 0.7200\n",
            "Epoch 61/100\n",
            "7/7 [==============================] - 0s 11ms/step - loss: 0.6366 - accuracy: 0.7600 - val_loss: 0.6416 - val_accuracy: 0.7400\n",
            "Epoch 62/100\n",
            "7/7 [==============================] - 0s 7ms/step - loss: 0.6345 - accuracy: 0.7700 - val_loss: 0.6395 - val_accuracy: 0.7400\n",
            "Epoch 63/100\n",
            "7/7 [==============================] - 0s 10ms/step - loss: 0.6322 - accuracy: 0.7600 - val_loss: 0.6371 - val_accuracy: 0.7400\n",
            "Epoch 64/100\n",
            "7/7 [==============================] - 0s 10ms/step - loss: 0.6299 - accuracy: 0.7650 - val_loss: 0.6347 - val_accuracy: 0.7400\n",
            "Epoch 65/100\n",
            "7/7 [==============================] - 0s 7ms/step - loss: 0.6273 - accuracy: 0.7650 - val_loss: 0.6315 - val_accuracy: 0.7400\n",
            "Epoch 66/100\n",
            "7/7 [==============================] - 0s 7ms/step - loss: 0.6248 - accuracy: 0.7600 - val_loss: 0.6291 - val_accuracy: 0.7400\n",
            "Epoch 67/100\n",
            "7/7 [==============================] - 0s 11ms/step - loss: 0.6223 - accuracy: 0.7700 - val_loss: 0.6265 - val_accuracy: 0.7400\n",
            "Epoch 68/100\n",
            "7/7 [==============================] - 0s 7ms/step - loss: 0.6197 - accuracy: 0.7600 - val_loss: 0.6236 - val_accuracy: 0.7400\n",
            "Epoch 69/100\n",
            "7/7 [==============================] - 0s 8ms/step - loss: 0.6170 - accuracy: 0.7600 - val_loss: 0.6209 - val_accuracy: 0.7400\n",
            "Epoch 70/100\n",
            "7/7 [==============================] - 0s 7ms/step - loss: 0.6142 - accuracy: 0.7600 - val_loss: 0.6183 - val_accuracy: 0.7400\n",
            "Epoch 71/100\n",
            "7/7 [==============================] - 0s 8ms/step - loss: 0.6115 - accuracy: 0.7600 - val_loss: 0.6155 - val_accuracy: 0.7400\n",
            "Epoch 72/100\n",
            "7/7 [==============================] - 0s 10ms/step - loss: 0.6086 - accuracy: 0.7650 - val_loss: 0.6132 - val_accuracy: 0.7400\n",
            "Epoch 73/100\n",
            "7/7 [==============================] - 0s 8ms/step - loss: 0.6058 - accuracy: 0.7700 - val_loss: 0.6104 - val_accuracy: 0.7400\n",
            "Epoch 74/100\n",
            "7/7 [==============================] - 0s 8ms/step - loss: 0.6027 - accuracy: 0.7600 - val_loss: 0.6068 - val_accuracy: 0.7600\n",
            "Epoch 75/100\n",
            "7/7 [==============================] - 0s 7ms/step - loss: 0.6002 - accuracy: 0.7600 - val_loss: 0.6031 - val_accuracy: 0.7800\n",
            "Epoch 76/100\n",
            "7/7 [==============================] - 0s 11ms/step - loss: 0.5967 - accuracy: 0.7550 - val_loss: 0.6000 - val_accuracy: 0.7800\n",
            "Epoch 77/100\n",
            "7/7 [==============================] - 0s 11ms/step - loss: 0.5935 - accuracy: 0.7550 - val_loss: 0.5969 - val_accuracy: 0.7800\n",
            "Epoch 78/100\n",
            "7/7 [==============================] - 0s 8ms/step - loss: 0.5903 - accuracy: 0.7650 - val_loss: 0.5936 - val_accuracy: 0.7800\n",
            "Epoch 79/100\n",
            "7/7 [==============================] - 0s 8ms/step - loss: 0.5869 - accuracy: 0.7600 - val_loss: 0.5902 - val_accuracy: 0.7800\n",
            "Epoch 80/100\n",
            "7/7 [==============================] - 0s 10ms/step - loss: 0.5837 - accuracy: 0.7700 - val_loss: 0.5871 - val_accuracy: 0.7800\n",
            "Epoch 81/100\n",
            "7/7 [==============================] - 0s 8ms/step - loss: 0.5802 - accuracy: 0.7650 - val_loss: 0.5835 - val_accuracy: 0.7800\n",
            "Epoch 82/100\n",
            "7/7 [==============================] - 0s 10ms/step - loss: 0.5771 - accuracy: 0.7700 - val_loss: 0.5794 - val_accuracy: 0.7800\n",
            "Epoch 83/100\n",
            "7/7 [==============================] - 0s 8ms/step - loss: 0.5733 - accuracy: 0.7700 - val_loss: 0.5758 - val_accuracy: 0.7800\n",
            "Epoch 84/100\n",
            "7/7 [==============================] - 0s 10ms/step - loss: 0.5699 - accuracy: 0.7700 - val_loss: 0.5724 - val_accuracy: 0.7800\n",
            "Epoch 85/100\n",
            "7/7 [==============================] - 0s 8ms/step - loss: 0.5661 - accuracy: 0.7700 - val_loss: 0.5692 - val_accuracy: 0.7800\n",
            "Epoch 86/100\n",
            "7/7 [==============================] - 0s 11ms/step - loss: 0.5627 - accuracy: 0.7700 - val_loss: 0.5650 - val_accuracy: 0.7800\n",
            "Epoch 87/100\n",
            "7/7 [==============================] - 0s 7ms/step - loss: 0.5588 - accuracy: 0.7700 - val_loss: 0.5611 - val_accuracy: 0.7800\n",
            "Epoch 88/100\n",
            "7/7 [==============================] - 0s 7ms/step - loss: 0.5554 - accuracy: 0.7700 - val_loss: 0.5572 - val_accuracy: 0.7800\n",
            "Epoch 89/100\n",
            "7/7 [==============================] - 0s 10ms/step - loss: 0.5517 - accuracy: 0.7700 - val_loss: 0.5537 - val_accuracy: 0.7800\n",
            "Epoch 90/100\n",
            "7/7 [==============================] - 0s 8ms/step - loss: 0.5482 - accuracy: 0.7700 - val_loss: 0.5500 - val_accuracy: 0.7800\n",
            "Epoch 91/100\n",
            "7/7 [==============================] - 0s 8ms/step - loss: 0.5445 - accuracy: 0.7750 - val_loss: 0.5463 - val_accuracy: 0.7800\n",
            "Epoch 92/100\n",
            "7/7 [==============================] - 0s 8ms/step - loss: 0.5407 - accuracy: 0.7700 - val_loss: 0.5428 - val_accuracy: 0.7800\n",
            "Epoch 93/100\n",
            "7/7 [==============================] - 0s 8ms/step - loss: 0.5371 - accuracy: 0.7700 - val_loss: 0.5390 - val_accuracy: 0.7800\n",
            "Epoch 94/100\n",
            "7/7 [==============================] - 0s 8ms/step - loss: 0.5337 - accuracy: 0.7750 - val_loss: 0.5351 - val_accuracy: 0.7800\n",
            "Epoch 95/100\n",
            "7/7 [==============================] - 0s 8ms/step - loss: 0.5299 - accuracy: 0.7750 - val_loss: 0.5318 - val_accuracy: 0.7800\n",
            "Epoch 96/100\n",
            "7/7 [==============================] - 0s 8ms/step - loss: 0.5263 - accuracy: 0.7750 - val_loss: 0.5280 - val_accuracy: 0.7800\n",
            "Epoch 97/100\n",
            "7/7 [==============================] - 0s 8ms/step - loss: 0.5227 - accuracy: 0.7750 - val_loss: 0.5244 - val_accuracy: 0.7800\n",
            "Epoch 98/100\n",
            "7/7 [==============================] - 0s 9ms/step - loss: 0.5189 - accuracy: 0.7750 - val_loss: 0.5210 - val_accuracy: 0.7800\n",
            "Epoch 99/100\n",
            "7/7 [==============================] - 0s 7ms/step - loss: 0.5155 - accuracy: 0.7700 - val_loss: 0.5175 - val_accuracy: 0.7800\n",
            "Epoch 100/100\n",
            "7/7 [==============================] - 0s 10ms/step - loss: 0.5118 - accuracy: 0.7700 - val_loss: 0.5137 - val_accuracy: 0.7800\n"
          ]
        },
        {
          "output_type": "execute_result",
          "data": {
            "text/plain": [
              "<keras.callbacks.History at 0x7cb068086f50>"
            ]
          },
          "metadata": {},
          "execution_count": 31
        }
      ]
    },
    {
      "cell_type": "markdown",
      "source": [
        "## approach 2: RELU activation"
      ],
      "metadata": {
        "id": "u5hJujRPOwfg"
      }
    },
    {
      "cell_type": "code",
      "source": [
        "model2 = Sequential()\n",
        "model2.add(Dense(10, activation='relu',input_dim=2))\n",
        "model2.add(Dense(10, activation='relu'))\n",
        "model2.add(Dense(10, activation='relu'))\n",
        "model2.add(Dense(10, activation='relu'))\n",
        "model2.add(Dense(10, activation='relu'))\n",
        "model2.add(Dense(10, activation='relu'))\n",
        "model2.add(Dense(10, activation='relu'))\n",
        "model2.add(Dense(10, activation='relu'))\n",
        "model2.add(Dense(10, activation='relu'))\n",
        "model2.add(Dense(10, activation='relu'))\n",
        "model2.add(Dense(10, activation='relu'))\n",
        "model2.add(Dense(10, activation='relu'))\n",
        "model2.add(Dense(10, activation='relu'))\n",
        "model2.add(Dense(1, activation='sigmoid'))"
      ],
      "metadata": {
        "id": "t9xxOf5VNkVj"
      },
      "execution_count": 32,
      "outputs": []
    },
    {
      "cell_type": "code",
      "source": [
        "model2.compile(loss='binary_crossentropy',optimizer='adam',metrics=[\"accuracy\"])"
      ],
      "metadata": {
        "id": "FFIEaW9_NkYQ"
      },
      "execution_count": 35,
      "outputs": []
    },
    {
      "cell_type": "code",
      "source": [
        "model2.fit(x_train, y_train, validation_data=(x_test, y_test), epochs=100)"
      ],
      "metadata": {
        "colab": {
          "base_uri": "https://localhost:8080/"
        },
        "id": "WKKnC7E1Nka6",
        "outputId": "c0e4499b-b094-4460-dc32-1845e75bd172"
      },
      "execution_count": 36,
      "outputs": [
        {
          "output_type": "stream",
          "name": "stdout",
          "text": [
            "Epoch 1/100\n",
            "7/7 [==============================] - 5s 42ms/step - loss: 0.6933 - accuracy: 0.4550 - val_loss: 0.6925 - val_accuracy: 0.5400\n",
            "Epoch 2/100\n",
            "7/7 [==============================] - 0s 10ms/step - loss: 0.6926 - accuracy: 0.4900 - val_loss: 0.6912 - val_accuracy: 0.5400\n",
            "Epoch 3/100\n",
            "7/7 [==============================] - 0s 10ms/step - loss: 0.6911 - accuracy: 0.4900 - val_loss: 0.6889 - val_accuracy: 0.5400\n",
            "Epoch 4/100\n",
            "7/7 [==============================] - 0s 9ms/step - loss: 0.6890 - accuracy: 0.4900 - val_loss: 0.6857 - val_accuracy: 0.5400\n",
            "Epoch 5/100\n",
            "7/7 [==============================] - 0s 9ms/step - loss: 0.6857 - accuracy: 0.4900 - val_loss: 0.6807 - val_accuracy: 0.5400\n",
            "Epoch 6/100\n",
            "7/7 [==============================] - 0s 10ms/step - loss: 0.6808 - accuracy: 0.4900 - val_loss: 0.6729 - val_accuracy: 0.5400\n",
            "Epoch 7/100\n",
            "7/7 [==============================] - 0s 11ms/step - loss: 0.6729 - accuracy: 0.7050 - val_loss: 0.6604 - val_accuracy: 0.8000\n",
            "Epoch 8/100\n",
            "7/7 [==============================] - 0s 16ms/step - loss: 0.6600 - accuracy: 0.5850 - val_loss: 0.6402 - val_accuracy: 0.8000\n",
            "Epoch 9/100\n",
            "7/7 [==============================] - 0s 10ms/step - loss: 0.6412 - accuracy: 0.7850 - val_loss: 0.6114 - val_accuracy: 0.8600\n",
            "Epoch 10/100\n",
            "7/7 [==============================] - 0s 12ms/step - loss: 0.6138 - accuracy: 0.8200 - val_loss: 0.5730 - val_accuracy: 0.8600\n",
            "Epoch 11/100\n",
            "7/7 [==============================] - 0s 12ms/step - loss: 0.5809 - accuracy: 0.8300 - val_loss: 0.5372 - val_accuracy: 0.8800\n",
            "Epoch 12/100\n",
            "7/7 [==============================] - 0s 10ms/step - loss: 0.5506 - accuracy: 0.8300 - val_loss: 0.5162 - val_accuracy: 0.8800\n",
            "Epoch 13/100\n",
            "7/7 [==============================] - 0s 10ms/step - loss: 0.5352 - accuracy: 0.8400 - val_loss: 0.5062 - val_accuracy: 0.9000\n",
            "Epoch 14/100\n",
            "7/7 [==============================] - 0s 10ms/step - loss: 0.5215 - accuracy: 0.8450 - val_loss: 0.4978 - val_accuracy: 0.8800\n",
            "Epoch 15/100\n",
            "7/7 [==============================] - 0s 12ms/step - loss: 0.5051 - accuracy: 0.8800 - val_loss: 0.4790 - val_accuracy: 0.8800\n",
            "Epoch 16/100\n",
            "7/7 [==============================] - 0s 13ms/step - loss: 0.4890 - accuracy: 0.8750 - val_loss: 0.4565 - val_accuracy: 0.8800\n",
            "Epoch 17/100\n",
            "7/7 [==============================] - 0s 12ms/step - loss: 0.4673 - accuracy: 0.8800 - val_loss: 0.4340 - val_accuracy: 0.8800\n",
            "Epoch 18/100\n",
            "7/7 [==============================] - 0s 10ms/step - loss: 0.4493 - accuracy: 0.8850 - val_loss: 0.4095 - val_accuracy: 0.8800\n",
            "Epoch 19/100\n",
            "7/7 [==============================] - 0s 10ms/step - loss: 0.4281 - accuracy: 0.8850 - val_loss: 0.3853 - val_accuracy: 0.9000\n",
            "Epoch 20/100\n",
            "7/7 [==============================] - 0s 13ms/step - loss: 0.4084 - accuracy: 0.8800 - val_loss: 0.3620 - val_accuracy: 0.9400\n",
            "Epoch 21/100\n",
            "7/7 [==============================] - 0s 12ms/step - loss: 0.3859 - accuracy: 0.8900 - val_loss: 0.3399 - val_accuracy: 0.9200\n",
            "Epoch 22/100\n",
            "7/7 [==============================] - 0s 9ms/step - loss: 0.3648 - accuracy: 0.9100 - val_loss: 0.3286 - val_accuracy: 0.9200\n",
            "Epoch 23/100\n",
            "7/7 [==============================] - 0s 9ms/step - loss: 0.3438 - accuracy: 0.9050 - val_loss: 0.2996 - val_accuracy: 0.9200\n",
            "Epoch 24/100\n",
            "7/7 [==============================] - 0s 11ms/step - loss: 0.3276 - accuracy: 0.9050 - val_loss: 0.2693 - val_accuracy: 0.9400\n",
            "Epoch 25/100\n",
            "7/7 [==============================] - 0s 10ms/step - loss: 0.3058 - accuracy: 0.9050 - val_loss: 0.2752 - val_accuracy: 0.9400\n",
            "Epoch 26/100\n",
            "7/7 [==============================] - 0s 10ms/step - loss: 0.2860 - accuracy: 0.9300 - val_loss: 0.2422 - val_accuracy: 0.9400\n",
            "Epoch 27/100\n",
            "7/7 [==============================] - 0s 13ms/step - loss: 0.2672 - accuracy: 0.9350 - val_loss: 0.2098 - val_accuracy: 0.9600\n",
            "Epoch 28/100\n",
            "7/7 [==============================] - 0s 12ms/step - loss: 0.2538 - accuracy: 0.9150 - val_loss: 0.1819 - val_accuracy: 0.9800\n",
            "Epoch 29/100\n",
            "7/7 [==============================] - 0s 9ms/step - loss: 0.2336 - accuracy: 0.9300 - val_loss: 0.1763 - val_accuracy: 0.9800\n",
            "Epoch 30/100\n",
            "7/7 [==============================] - 0s 10ms/step - loss: 0.2188 - accuracy: 0.9300 - val_loss: 0.1603 - val_accuracy: 0.9800\n",
            "Epoch 31/100\n",
            "7/7 [==============================] - 0s 10ms/step - loss: 0.2051 - accuracy: 0.9400 - val_loss: 0.1450 - val_accuracy: 0.9800\n",
            "Epoch 32/100\n",
            "7/7 [==============================] - 0s 11ms/step - loss: 0.1936 - accuracy: 0.9350 - val_loss: 0.1305 - val_accuracy: 0.9800\n",
            "Epoch 33/100\n",
            "7/7 [==============================] - 0s 12ms/step - loss: 0.1802 - accuracy: 0.9450 - val_loss: 0.1176 - val_accuracy: 0.9800\n",
            "Epoch 34/100\n",
            "7/7 [==============================] - 0s 11ms/step - loss: 0.1689 - accuracy: 0.9500 - val_loss: 0.0991 - val_accuracy: 0.9800\n",
            "Epoch 35/100\n",
            "7/7 [==============================] - 0s 10ms/step - loss: 0.1720 - accuracy: 0.9450 - val_loss: 0.0928 - val_accuracy: 0.9800\n",
            "Epoch 36/100\n",
            "7/7 [==============================] - 0s 11ms/step - loss: 0.1517 - accuracy: 0.9600 - val_loss: 0.1020 - val_accuracy: 0.9800\n",
            "Epoch 37/100\n",
            "7/7 [==============================] - 0s 12ms/step - loss: 0.1533 - accuracy: 0.9600 - val_loss: 0.0798 - val_accuracy: 0.9800\n",
            "Epoch 38/100\n",
            "7/7 [==============================] - 0s 9ms/step - loss: 0.1531 - accuracy: 0.9550 - val_loss: 0.0776 - val_accuracy: 0.9800\n",
            "Epoch 39/100\n",
            "7/7 [==============================] - 0s 11ms/step - loss: 0.1451 - accuracy: 0.9600 - val_loss: 0.0852 - val_accuracy: 0.9800\n",
            "Epoch 40/100\n",
            "7/7 [==============================] - 0s 10ms/step - loss: 0.1413 - accuracy: 0.9600 - val_loss: 0.0587 - val_accuracy: 0.9800\n",
            "Epoch 41/100\n",
            "7/7 [==============================] - 0s 9ms/step - loss: 0.1397 - accuracy: 0.9600 - val_loss: 0.0660 - val_accuracy: 0.9800\n",
            "Epoch 42/100\n",
            "7/7 [==============================] - 0s 12ms/step - loss: 0.1362 - accuracy: 0.9650 - val_loss: 0.0582 - val_accuracy: 0.9800\n",
            "Epoch 43/100\n",
            "7/7 [==============================] - 0s 10ms/step - loss: 0.1338 - accuracy: 0.9650 - val_loss: 0.0473 - val_accuracy: 0.9800\n",
            "Epoch 44/100\n",
            "7/7 [==============================] - 0s 13ms/step - loss: 0.1333 - accuracy: 0.9650 - val_loss: 0.0489 - val_accuracy: 0.9800\n",
            "Epoch 45/100\n",
            "7/7 [==============================] - 0s 10ms/step - loss: 0.1282 - accuracy: 0.9650 - val_loss: 0.0348 - val_accuracy: 1.0000\n",
            "Epoch 46/100\n",
            "7/7 [==============================] - 0s 14ms/step - loss: 0.1043 - accuracy: 0.9650 - val_loss: 0.0411 - val_accuracy: 1.0000\n",
            "Epoch 47/100\n",
            "7/7 [==============================] - 0s 11ms/step - loss: 0.0918 - accuracy: 0.9750 - val_loss: 0.0309 - val_accuracy: 1.0000\n",
            "Epoch 48/100\n",
            "7/7 [==============================] - 0s 14ms/step - loss: 0.0798 - accuracy: 0.9650 - val_loss: 0.0263 - val_accuracy: 1.0000\n",
            "Epoch 49/100\n",
            "7/7 [==============================] - 0s 10ms/step - loss: 0.0482 - accuracy: 0.9900 - val_loss: 0.0227 - val_accuracy: 1.0000\n",
            "Epoch 50/100\n",
            "7/7 [==============================] - 0s 10ms/step - loss: 0.0274 - accuracy: 1.0000 - val_loss: 0.0189 - val_accuracy: 1.0000\n",
            "Epoch 51/100\n",
            "7/7 [==============================] - 0s 10ms/step - loss: 0.0239 - accuracy: 1.0000 - val_loss: 0.0153 - val_accuracy: 1.0000\n",
            "Epoch 52/100\n",
            "7/7 [==============================] - 0s 10ms/step - loss: 0.0176 - accuracy: 1.0000 - val_loss: 0.0129 - val_accuracy: 1.0000\n",
            "Epoch 53/100\n",
            "7/7 [==============================] - 0s 11ms/step - loss: 0.0151 - accuracy: 1.0000 - val_loss: 0.0107 - val_accuracy: 1.0000\n",
            "Epoch 54/100\n",
            "7/7 [==============================] - 0s 12ms/step - loss: 0.0122 - accuracy: 1.0000 - val_loss: 0.0090 - val_accuracy: 1.0000\n",
            "Epoch 55/100\n",
            "7/7 [==============================] - 0s 12ms/step - loss: 0.0104 - accuracy: 1.0000 - val_loss: 0.0078 - val_accuracy: 1.0000\n",
            "Epoch 56/100\n",
            "7/7 [==============================] - 0s 10ms/step - loss: 0.0089 - accuracy: 1.0000 - val_loss: 0.0069 - val_accuracy: 1.0000\n",
            "Epoch 57/100\n",
            "7/7 [==============================] - 0s 10ms/step - loss: 0.0080 - accuracy: 1.0000 - val_loss: 0.0060 - val_accuracy: 1.0000\n",
            "Epoch 58/100\n",
            "7/7 [==============================] - 0s 10ms/step - loss: 0.0069 - accuracy: 1.0000 - val_loss: 0.0053 - val_accuracy: 1.0000\n",
            "Epoch 59/100\n",
            "7/7 [==============================] - 0s 11ms/step - loss: 0.0060 - accuracy: 1.0000 - val_loss: 0.0046 - val_accuracy: 1.0000\n",
            "Epoch 60/100\n",
            "7/7 [==============================] - 0s 12ms/step - loss: 0.0053 - accuracy: 1.0000 - val_loss: 0.0041 - val_accuracy: 1.0000\n",
            "Epoch 61/100\n",
            "7/7 [==============================] - 0s 10ms/step - loss: 0.0047 - accuracy: 1.0000 - val_loss: 0.0036 - val_accuracy: 1.0000\n",
            "Epoch 62/100\n",
            "7/7 [==============================] - 0s 12ms/step - loss: 0.0042 - accuracy: 1.0000 - val_loss: 0.0032 - val_accuracy: 1.0000\n",
            "Epoch 63/100\n",
            "7/7 [==============================] - 0s 10ms/step - loss: 0.0037 - accuracy: 1.0000 - val_loss: 0.0028 - val_accuracy: 1.0000\n",
            "Epoch 64/100\n",
            "7/7 [==============================] - 0s 12ms/step - loss: 0.0033 - accuracy: 1.0000 - val_loss: 0.0025 - val_accuracy: 1.0000\n",
            "Epoch 65/100\n",
            "7/7 [==============================] - 0s 10ms/step - loss: 0.0030 - accuracy: 1.0000 - val_loss: 0.0023 - val_accuracy: 1.0000\n",
            "Epoch 66/100\n",
            "7/7 [==============================] - 0s 9ms/step - loss: 0.0027 - accuracy: 1.0000 - val_loss: 0.0020 - val_accuracy: 1.0000\n",
            "Epoch 67/100\n",
            "7/7 [==============================] - 0s 9ms/step - loss: 0.0024 - accuracy: 1.0000 - val_loss: 0.0018 - val_accuracy: 1.0000\n",
            "Epoch 68/100\n",
            "7/7 [==============================] - 0s 12ms/step - loss: 0.0022 - accuracy: 1.0000 - val_loss: 0.0017 - val_accuracy: 1.0000\n",
            "Epoch 69/100\n",
            "7/7 [==============================] - 0s 13ms/step - loss: 0.0020 - accuracy: 1.0000 - val_loss: 0.0015 - val_accuracy: 1.0000\n",
            "Epoch 70/100\n",
            "7/7 [==============================] - 0s 10ms/step - loss: 0.0018 - accuracy: 1.0000 - val_loss: 0.0014 - val_accuracy: 1.0000\n",
            "Epoch 71/100\n",
            "7/7 [==============================] - 0s 13ms/step - loss: 0.0016 - accuracy: 1.0000 - val_loss: 0.0013 - val_accuracy: 1.0000\n",
            "Epoch 72/100\n",
            "7/7 [==============================] - 0s 18ms/step - loss: 0.0015 - accuracy: 1.0000 - val_loss: 0.0011 - val_accuracy: 1.0000\n",
            "Epoch 73/100\n",
            "7/7 [==============================] - 0s 17ms/step - loss: 0.0014 - accuracy: 1.0000 - val_loss: 0.0010 - val_accuracy: 1.0000\n",
            "Epoch 74/100\n",
            "7/7 [==============================] - 0s 15ms/step - loss: 0.0013 - accuracy: 1.0000 - val_loss: 9.6633e-04 - val_accuracy: 1.0000\n",
            "Epoch 75/100\n",
            "7/7 [==============================] - 0s 16ms/step - loss: 0.0012 - accuracy: 1.0000 - val_loss: 8.9446e-04 - val_accuracy: 1.0000\n",
            "Epoch 76/100\n",
            "7/7 [==============================] - 0s 16ms/step - loss: 0.0011 - accuracy: 1.0000 - val_loss: 8.3064e-04 - val_accuracy: 1.0000\n",
            "Epoch 77/100\n",
            "7/7 [==============================] - 0s 16ms/step - loss: 0.0010 - accuracy: 1.0000 - val_loss: 7.7142e-04 - val_accuracy: 1.0000\n",
            "Epoch 78/100\n",
            "7/7 [==============================] - 0s 14ms/step - loss: 9.4909e-04 - accuracy: 1.0000 - val_loss: 7.1806e-04 - val_accuracy: 1.0000\n",
            "Epoch 79/100\n",
            "7/7 [==============================] - 0s 16ms/step - loss: 8.8788e-04 - accuracy: 1.0000 - val_loss: 6.7019e-04 - val_accuracy: 1.0000\n",
            "Epoch 80/100\n",
            "7/7 [==============================] - 0s 16ms/step - loss: 8.3057e-04 - accuracy: 1.0000 - val_loss: 6.2681e-04 - val_accuracy: 1.0000\n",
            "Epoch 81/100\n",
            "7/7 [==============================] - 0s 18ms/step - loss: 7.7980e-04 - accuracy: 1.0000 - val_loss: 5.8720e-04 - val_accuracy: 1.0000\n",
            "Epoch 82/100\n",
            "7/7 [==============================] - 0s 16ms/step - loss: 7.3528e-04 - accuracy: 1.0000 - val_loss: 5.5260e-04 - val_accuracy: 1.0000\n",
            "Epoch 83/100\n",
            "7/7 [==============================] - 0s 15ms/step - loss: 6.9344e-04 - accuracy: 1.0000 - val_loss: 5.2062e-04 - val_accuracy: 1.0000\n",
            "Epoch 84/100\n",
            "7/7 [==============================] - 0s 15ms/step - loss: 6.5674e-04 - accuracy: 1.0000 - val_loss: 4.9177e-04 - val_accuracy: 1.0000\n",
            "Epoch 85/100\n",
            "7/7 [==============================] - 0s 14ms/step - loss: 6.2199e-04 - accuracy: 1.0000 - val_loss: 4.6554e-04 - val_accuracy: 1.0000\n",
            "Epoch 86/100\n",
            "7/7 [==============================] - 0s 16ms/step - loss: 5.9092e-04 - accuracy: 1.0000 - val_loss: 4.4123e-04 - val_accuracy: 1.0000\n",
            "Epoch 87/100\n",
            "7/7 [==============================] - 0s 16ms/step - loss: 5.6282e-04 - accuracy: 1.0000 - val_loss: 4.1887e-04 - val_accuracy: 1.0000\n",
            "Epoch 88/100\n",
            "7/7 [==============================] - 0s 15ms/step - loss: 5.3569e-04 - accuracy: 1.0000 - val_loss: 3.9818e-04 - val_accuracy: 1.0000\n",
            "Epoch 89/100\n",
            "7/7 [==============================] - 0s 16ms/step - loss: 5.1115e-04 - accuracy: 1.0000 - val_loss: 3.7873e-04 - val_accuracy: 1.0000\n",
            "Epoch 90/100\n",
            "7/7 [==============================] - 0s 17ms/step - loss: 4.8796e-04 - accuracy: 1.0000 - val_loss: 3.5994e-04 - val_accuracy: 1.0000\n",
            "Epoch 91/100\n",
            "7/7 [==============================] - 0s 17ms/step - loss: 4.6375e-04 - accuracy: 1.0000 - val_loss: 3.4294e-04 - val_accuracy: 1.0000\n",
            "Epoch 92/100\n",
            "7/7 [==============================] - 0s 10ms/step - loss: 4.4340e-04 - accuracy: 1.0000 - val_loss: 3.2700e-04 - val_accuracy: 1.0000\n",
            "Epoch 93/100\n",
            "7/7 [==============================] - 0s 12ms/step - loss: 4.2466e-04 - accuracy: 1.0000 - val_loss: 3.1181e-04 - val_accuracy: 1.0000\n",
            "Epoch 94/100\n",
            "7/7 [==============================] - 0s 11ms/step - loss: 4.0550e-04 - accuracy: 1.0000 - val_loss: 2.9804e-04 - val_accuracy: 1.0000\n",
            "Epoch 95/100\n",
            "7/7 [==============================] - 0s 12ms/step - loss: 3.8920e-04 - accuracy: 1.0000 - val_loss: 2.8507e-04 - val_accuracy: 1.0000\n",
            "Epoch 96/100\n",
            "7/7 [==============================] - 0s 12ms/step - loss: 3.7329e-04 - accuracy: 1.0000 - val_loss: 2.7311e-04 - val_accuracy: 1.0000\n",
            "Epoch 97/100\n",
            "7/7 [==============================] - 0s 12ms/step - loss: 3.5897e-04 - accuracy: 1.0000 - val_loss: 2.6183e-04 - val_accuracy: 1.0000\n",
            "Epoch 98/100\n",
            "7/7 [==============================] - 0s 10ms/step - loss: 3.4520e-04 - accuracy: 1.0000 - val_loss: 2.5129e-04 - val_accuracy: 1.0000\n",
            "Epoch 99/100\n",
            "7/7 [==============================] - 0s 10ms/step - loss: 3.3190e-04 - accuracy: 1.0000 - val_loss: 2.4138e-04 - val_accuracy: 1.0000\n",
            "Epoch 100/100\n",
            "7/7 [==============================] - 0s 12ms/step - loss: 3.1980e-04 - accuracy: 1.0000 - val_loss: 2.3193e-04 - val_accuracy: 1.0000\n"
          ]
        },
        {
          "output_type": "execute_result",
          "data": {
            "text/plain": [
              "<keras.callbacks.History at 0x7cb059e777f0>"
            ]
          },
          "metadata": {},
          "execution_count": 36
        }
      ]
    },
    {
      "cell_type": "code",
      "source": [],
      "metadata": {
        "id": "g6vhNoHXDR-G"
      },
      "execution_count": null,
      "outputs": []
    },
    {
      "cell_type": "markdown",
      "source": [
        "## approach 3: combine reduced complexity and relu"
      ],
      "metadata": {
        "id": "2XUd9dKXQ8iG"
      }
    },
    {
      "cell_type": "code",
      "source": [
        "model3 = Sequential()\n",
        "model3.add(Dense(10, activation='relu',input_dim=2))\n",
        "model3.add(Dense(10, activation='relu'))\n",
        "model3.add(Dense(1, activation='sigmoid'))\n",
        "model3.compile(loss='binary_crossentropy',optimizer='adam',metrics=[\"accuracy\"])"
      ],
      "metadata": {
        "id": "X0DHsNPZRE-d"
      },
      "execution_count": 38,
      "outputs": []
    },
    {
      "cell_type": "code",
      "source": [
        "model3.fit(x_train, y_train, validation_data=(x_test, y_test), epochs=100)"
      ],
      "metadata": {
        "colab": {
          "base_uri": "https://localhost:8080/"
        },
        "id": "bcq9qUAfRFLc",
        "outputId": "0cedd5ad-d73f-486b-d367-df7cf59ec833"
      },
      "execution_count": 39,
      "outputs": [
        {
          "output_type": "stream",
          "name": "stdout",
          "text": [
            "Epoch 1/100\n",
            "7/7 [==============================] - 2s 32ms/step - loss: 0.6870 - accuracy: 0.5850 - val_loss: 0.6831 - val_accuracy: 0.6000\n",
            "Epoch 2/100\n",
            "7/7 [==============================] - 0s 10ms/step - loss: 0.6773 - accuracy: 0.6100 - val_loss: 0.6730 - val_accuracy: 0.6800\n",
            "Epoch 3/100\n",
            "7/7 [==============================] - 0s 10ms/step - loss: 0.6673 - accuracy: 0.6800 - val_loss: 0.6638 - val_accuracy: 0.6800\n",
            "Epoch 4/100\n",
            "7/7 [==============================] - 0s 7ms/step - loss: 0.6584 - accuracy: 0.7350 - val_loss: 0.6538 - val_accuracy: 0.7600\n",
            "Epoch 5/100\n",
            "7/7 [==============================] - 0s 7ms/step - loss: 0.6491 - accuracy: 0.7800 - val_loss: 0.6439 - val_accuracy: 0.7400\n",
            "Epoch 6/100\n",
            "7/7 [==============================] - 0s 7ms/step - loss: 0.6394 - accuracy: 0.8050 - val_loss: 0.6338 - val_accuracy: 0.7800\n",
            "Epoch 7/100\n",
            "7/7 [==============================] - 0s 10ms/step - loss: 0.6289 - accuracy: 0.8100 - val_loss: 0.6236 - val_accuracy: 0.7800\n",
            "Epoch 8/100\n",
            "7/7 [==============================] - 0s 14ms/step - loss: 0.6187 - accuracy: 0.8100 - val_loss: 0.6127 - val_accuracy: 0.7800\n",
            "Epoch 9/100\n",
            "7/7 [==============================] - 0s 7ms/step - loss: 0.6071 - accuracy: 0.8100 - val_loss: 0.6009 - val_accuracy: 0.7800\n",
            "Epoch 10/100\n",
            "7/7 [==============================] - 0s 8ms/step - loss: 0.5957 - accuracy: 0.8000 - val_loss: 0.5893 - val_accuracy: 0.7800\n",
            "Epoch 11/100\n",
            "7/7 [==============================] - 0s 9ms/step - loss: 0.5843 - accuracy: 0.8000 - val_loss: 0.5783 - val_accuracy: 0.7800\n",
            "Epoch 12/100\n",
            "7/7 [==============================] - 0s 9ms/step - loss: 0.5740 - accuracy: 0.8000 - val_loss: 0.5675 - val_accuracy: 0.7800\n",
            "Epoch 13/100\n",
            "7/7 [==============================] - 0s 10ms/step - loss: 0.5635 - accuracy: 0.8000 - val_loss: 0.5576 - val_accuracy: 0.7800\n",
            "Epoch 14/100\n",
            "7/7 [==============================] - 0s 10ms/step - loss: 0.5537 - accuracy: 0.7950 - val_loss: 0.5475 - val_accuracy: 0.7800\n",
            "Epoch 15/100\n",
            "7/7 [==============================] - 0s 10ms/step - loss: 0.5439 - accuracy: 0.7950 - val_loss: 0.5377 - val_accuracy: 0.7800\n",
            "Epoch 16/100\n",
            "7/7 [==============================] - 0s 10ms/step - loss: 0.5343 - accuracy: 0.7950 - val_loss: 0.5280 - val_accuracy: 0.7800\n",
            "Epoch 17/100\n",
            "7/7 [==============================] - 0s 11ms/step - loss: 0.5251 - accuracy: 0.7950 - val_loss: 0.5188 - val_accuracy: 0.7800\n",
            "Epoch 18/100\n",
            "7/7 [==============================] - 0s 8ms/step - loss: 0.5162 - accuracy: 0.7950 - val_loss: 0.5099 - val_accuracy: 0.7800\n",
            "Epoch 19/100\n",
            "7/7 [==============================] - 0s 7ms/step - loss: 0.5071 - accuracy: 0.7950 - val_loss: 0.5007 - val_accuracy: 0.7800\n",
            "Epoch 20/100\n",
            "7/7 [==============================] - 0s 7ms/step - loss: 0.4981 - accuracy: 0.7950 - val_loss: 0.4914 - val_accuracy: 0.7800\n",
            "Epoch 21/100\n",
            "7/7 [==============================] - 0s 7ms/step - loss: 0.4891 - accuracy: 0.7950 - val_loss: 0.4822 - val_accuracy: 0.7800\n",
            "Epoch 22/100\n",
            "7/7 [==============================] - 0s 11ms/step - loss: 0.4804 - accuracy: 0.7950 - val_loss: 0.4732 - val_accuracy: 0.7800\n",
            "Epoch 23/100\n",
            "7/7 [==============================] - 0s 8ms/step - loss: 0.4715 - accuracy: 0.7950 - val_loss: 0.4647 - val_accuracy: 0.7800\n",
            "Epoch 24/100\n",
            "7/7 [==============================] - 0s 10ms/step - loss: 0.4633 - accuracy: 0.7950 - val_loss: 0.4563 - val_accuracy: 0.7800\n",
            "Epoch 25/100\n",
            "7/7 [==============================] - 0s 8ms/step - loss: 0.4551 - accuracy: 0.7950 - val_loss: 0.4482 - val_accuracy: 0.7800\n",
            "Epoch 26/100\n",
            "7/7 [==============================] - 0s 9ms/step - loss: 0.4473 - accuracy: 0.7950 - val_loss: 0.4405 - val_accuracy: 0.7800\n",
            "Epoch 27/100\n",
            "7/7 [==============================] - 0s 10ms/step - loss: 0.4394 - accuracy: 0.7950 - val_loss: 0.4328 - val_accuracy: 0.7800\n",
            "Epoch 28/100\n",
            "7/7 [==============================] - 0s 7ms/step - loss: 0.4320 - accuracy: 0.7950 - val_loss: 0.4250 - val_accuracy: 0.7800\n",
            "Epoch 29/100\n",
            "7/7 [==============================] - 0s 10ms/step - loss: 0.4241 - accuracy: 0.7950 - val_loss: 0.4173 - val_accuracy: 0.7800\n",
            "Epoch 30/100\n",
            "7/7 [==============================] - 0s 8ms/step - loss: 0.4172 - accuracy: 0.7950 - val_loss: 0.4094 - val_accuracy: 0.7800\n",
            "Epoch 31/100\n",
            "7/7 [==============================] - 0s 8ms/step - loss: 0.4097 - accuracy: 0.7950 - val_loss: 0.4023 - val_accuracy: 0.7800\n",
            "Epoch 32/100\n",
            "7/7 [==============================] - 0s 8ms/step - loss: 0.4027 - accuracy: 0.7950 - val_loss: 0.3955 - val_accuracy: 0.7800\n",
            "Epoch 33/100\n",
            "7/7 [==============================] - 0s 7ms/step - loss: 0.3960 - accuracy: 0.8050 - val_loss: 0.3889 - val_accuracy: 0.7800\n",
            "Epoch 34/100\n",
            "7/7 [==============================] - 0s 8ms/step - loss: 0.3895 - accuracy: 0.8050 - val_loss: 0.3822 - val_accuracy: 0.7800\n",
            "Epoch 35/100\n",
            "7/7 [==============================] - 0s 10ms/step - loss: 0.3834 - accuracy: 0.8050 - val_loss: 0.3758 - val_accuracy: 0.7800\n",
            "Epoch 36/100\n",
            "7/7 [==============================] - 0s 10ms/step - loss: 0.3773 - accuracy: 0.8050 - val_loss: 0.3700 - val_accuracy: 0.7800\n",
            "Epoch 37/100\n",
            "7/7 [==============================] - 0s 8ms/step - loss: 0.3719 - accuracy: 0.8100 - val_loss: 0.3645 - val_accuracy: 0.7800\n",
            "Epoch 38/100\n",
            "7/7 [==============================] - 0s 10ms/step - loss: 0.3671 - accuracy: 0.8150 - val_loss: 0.3587 - val_accuracy: 0.8000\n",
            "Epoch 39/100\n",
            "7/7 [==============================] - 0s 10ms/step - loss: 0.3619 - accuracy: 0.8150 - val_loss: 0.3535 - val_accuracy: 0.8000\n",
            "Epoch 40/100\n",
            "7/7 [==============================] - 0s 11ms/step - loss: 0.3572 - accuracy: 0.8250 - val_loss: 0.3481 - val_accuracy: 0.8000\n",
            "Epoch 41/100\n",
            "7/7 [==============================] - 0s 8ms/step - loss: 0.3526 - accuracy: 0.8300 - val_loss: 0.3428 - val_accuracy: 0.8000\n",
            "Epoch 42/100\n",
            "7/7 [==============================] - 0s 12ms/step - loss: 0.3487 - accuracy: 0.8350 - val_loss: 0.3378 - val_accuracy: 0.8000\n",
            "Epoch 43/100\n",
            "7/7 [==============================] - 0s 7ms/step - loss: 0.3443 - accuracy: 0.8350 - val_loss: 0.3332 - val_accuracy: 0.8000\n",
            "Epoch 44/100\n",
            "7/7 [==============================] - 0s 11ms/step - loss: 0.3406 - accuracy: 0.8350 - val_loss: 0.3284 - val_accuracy: 0.8000\n",
            "Epoch 45/100\n",
            "7/7 [==============================] - 0s 7ms/step - loss: 0.3371 - accuracy: 0.8350 - val_loss: 0.3238 - val_accuracy: 0.8000\n",
            "Epoch 46/100\n",
            "7/7 [==============================] - 0s 10ms/step - loss: 0.3335 - accuracy: 0.8350 - val_loss: 0.3195 - val_accuracy: 0.8000\n",
            "Epoch 47/100\n",
            "7/7 [==============================] - 0s 8ms/step - loss: 0.3305 - accuracy: 0.8400 - val_loss: 0.3151 - val_accuracy: 0.8000\n",
            "Epoch 48/100\n",
            "7/7 [==============================] - 0s 11ms/step - loss: 0.3273 - accuracy: 0.8400 - val_loss: 0.3108 - val_accuracy: 0.8000\n",
            "Epoch 49/100\n",
            "7/7 [==============================] - 0s 8ms/step - loss: 0.3241 - accuracy: 0.8400 - val_loss: 0.3067 - val_accuracy: 0.8000\n",
            "Epoch 50/100\n",
            "7/7 [==============================] - 0s 10ms/step - loss: 0.3211 - accuracy: 0.8500 - val_loss: 0.3025 - val_accuracy: 0.8000\n",
            "Epoch 51/100\n",
            "7/7 [==============================] - 0s 9ms/step - loss: 0.3183 - accuracy: 0.8500 - val_loss: 0.2982 - val_accuracy: 0.8000\n",
            "Epoch 52/100\n",
            "7/7 [==============================] - 0s 8ms/step - loss: 0.3147 - accuracy: 0.8500 - val_loss: 0.2941 - val_accuracy: 0.8000\n",
            "Epoch 53/100\n",
            "7/7 [==============================] - 0s 10ms/step - loss: 0.3116 - accuracy: 0.8500 - val_loss: 0.2900 - val_accuracy: 0.8000\n",
            "Epoch 54/100\n",
            "7/7 [==============================] - 0s 10ms/step - loss: 0.3082 - accuracy: 0.8500 - val_loss: 0.2865 - val_accuracy: 0.8000\n",
            "Epoch 55/100\n",
            "7/7 [==============================] - 0s 7ms/step - loss: 0.3053 - accuracy: 0.8500 - val_loss: 0.2822 - val_accuracy: 0.8000\n",
            "Epoch 56/100\n",
            "7/7 [==============================] - 0s 7ms/step - loss: 0.3020 - accuracy: 0.8550 - val_loss: 0.2781 - val_accuracy: 0.8200\n",
            "Epoch 57/100\n",
            "7/7 [==============================] - 0s 10ms/step - loss: 0.2992 - accuracy: 0.8550 - val_loss: 0.2746 - val_accuracy: 0.8200\n",
            "Epoch 58/100\n",
            "7/7 [==============================] - 0s 8ms/step - loss: 0.2961 - accuracy: 0.8550 - val_loss: 0.2713 - val_accuracy: 0.8200\n",
            "Epoch 59/100\n",
            "7/7 [==============================] - 0s 8ms/step - loss: 0.2932 - accuracy: 0.8600 - val_loss: 0.2675 - val_accuracy: 0.8400\n",
            "Epoch 60/100\n",
            "7/7 [==============================] - 0s 8ms/step - loss: 0.2901 - accuracy: 0.8700 - val_loss: 0.2639 - val_accuracy: 0.8600\n",
            "Epoch 61/100\n",
            "7/7 [==============================] - 0s 7ms/step - loss: 0.2874 - accuracy: 0.8700 - val_loss: 0.2602 - val_accuracy: 0.8600\n",
            "Epoch 62/100\n",
            "7/7 [==============================] - 0s 10ms/step - loss: 0.2847 - accuracy: 0.8700 - val_loss: 0.2570 - val_accuracy: 0.8600\n",
            "Epoch 63/100\n",
            "7/7 [==============================] - 0s 7ms/step - loss: 0.2822 - accuracy: 0.8750 - val_loss: 0.2534 - val_accuracy: 0.8800\n",
            "Epoch 64/100\n",
            "7/7 [==============================] - 0s 7ms/step - loss: 0.2794 - accuracy: 0.8750 - val_loss: 0.2499 - val_accuracy: 0.9000\n",
            "Epoch 65/100\n",
            "7/7 [==============================] - 0s 8ms/step - loss: 0.2771 - accuracy: 0.8850 - val_loss: 0.2462 - val_accuracy: 0.9000\n",
            "Epoch 66/100\n",
            "7/7 [==============================] - 0s 10ms/step - loss: 0.2742 - accuracy: 0.8850 - val_loss: 0.2428 - val_accuracy: 0.9000\n",
            "Epoch 67/100\n",
            "7/7 [==============================] - 0s 8ms/step - loss: 0.2716 - accuracy: 0.8850 - val_loss: 0.2396 - val_accuracy: 0.9000\n",
            "Epoch 68/100\n",
            "7/7 [==============================] - 0s 11ms/step - loss: 0.2693 - accuracy: 0.8850 - val_loss: 0.2361 - val_accuracy: 0.9000\n",
            "Epoch 69/100\n",
            "7/7 [==============================] - 0s 11ms/step - loss: 0.2670 - accuracy: 0.8900 - val_loss: 0.2327 - val_accuracy: 0.9000\n",
            "Epoch 70/100\n",
            "7/7 [==============================] - 0s 7ms/step - loss: 0.2642 - accuracy: 0.9000 - val_loss: 0.2298 - val_accuracy: 0.9000\n",
            "Epoch 71/100\n",
            "7/7 [==============================] - 0s 10ms/step - loss: 0.2620 - accuracy: 0.9000 - val_loss: 0.2265 - val_accuracy: 0.9000\n",
            "Epoch 72/100\n",
            "7/7 [==============================] - 0s 7ms/step - loss: 0.2594 - accuracy: 0.9000 - val_loss: 0.2230 - val_accuracy: 0.9200\n",
            "Epoch 73/100\n",
            "7/7 [==============================] - 0s 8ms/step - loss: 0.2568 - accuracy: 0.9000 - val_loss: 0.2196 - val_accuracy: 0.9200\n",
            "Epoch 74/100\n",
            "7/7 [==============================] - 0s 9ms/step - loss: 0.2546 - accuracy: 0.9000 - val_loss: 0.2162 - val_accuracy: 0.9200\n",
            "Epoch 75/100\n",
            "7/7 [==============================] - 0s 8ms/step - loss: 0.2520 - accuracy: 0.9050 - val_loss: 0.2131 - val_accuracy: 0.9200\n",
            "Epoch 76/100\n",
            "7/7 [==============================] - 0s 8ms/step - loss: 0.2492 - accuracy: 0.9100 - val_loss: 0.2099 - val_accuracy: 0.9200\n",
            "Epoch 77/100\n",
            "7/7 [==============================] - 0s 7ms/step - loss: 0.2462 - accuracy: 0.9100 - val_loss: 0.2066 - val_accuracy: 0.9200\n",
            "Epoch 78/100\n",
            "7/7 [==============================] - 0s 7ms/step - loss: 0.2439 - accuracy: 0.9100 - val_loss: 0.2034 - val_accuracy: 0.9200\n",
            "Epoch 79/100\n",
            "7/7 [==============================] - 0s 8ms/step - loss: 0.2414 - accuracy: 0.9100 - val_loss: 0.2000 - val_accuracy: 0.9400\n",
            "Epoch 80/100\n",
            "7/7 [==============================] - 0s 9ms/step - loss: 0.2383 - accuracy: 0.9100 - val_loss: 0.1965 - val_accuracy: 0.9400\n",
            "Epoch 81/100\n",
            "7/7 [==============================] - 0s 10ms/step - loss: 0.2358 - accuracy: 0.9100 - val_loss: 0.1927 - val_accuracy: 0.9400\n",
            "Epoch 82/100\n",
            "7/7 [==============================] - 0s 9ms/step - loss: 0.2327 - accuracy: 0.9100 - val_loss: 0.1889 - val_accuracy: 0.9400\n",
            "Epoch 83/100\n",
            "7/7 [==============================] - 0s 10ms/step - loss: 0.2295 - accuracy: 0.9100 - val_loss: 0.1853 - val_accuracy: 0.9400\n",
            "Epoch 84/100\n",
            "7/7 [==============================] - 0s 8ms/step - loss: 0.2268 - accuracy: 0.9200 - val_loss: 0.1818 - val_accuracy: 0.9400\n",
            "Epoch 85/100\n",
            "7/7 [==============================] - 0s 8ms/step - loss: 0.2240 - accuracy: 0.9200 - val_loss: 0.1784 - val_accuracy: 0.9400\n",
            "Epoch 86/100\n",
            "7/7 [==============================] - 0s 10ms/step - loss: 0.2218 - accuracy: 0.9200 - val_loss: 0.1755 - val_accuracy: 0.9400\n",
            "Epoch 87/100\n",
            "7/7 [==============================] - 0s 10ms/step - loss: 0.2188 - accuracy: 0.9200 - val_loss: 0.1724 - val_accuracy: 0.9400\n",
            "Epoch 88/100\n",
            "7/7 [==============================] - 0s 10ms/step - loss: 0.2164 - accuracy: 0.9200 - val_loss: 0.1700 - val_accuracy: 0.9400\n",
            "Epoch 89/100\n",
            "7/7 [==============================] - 0s 8ms/step - loss: 0.2141 - accuracy: 0.9200 - val_loss: 0.1675 - val_accuracy: 0.9400\n",
            "Epoch 90/100\n",
            "7/7 [==============================] - 0s 9ms/step - loss: 0.2115 - accuracy: 0.9250 - val_loss: 0.1653 - val_accuracy: 0.9400\n",
            "Epoch 91/100\n",
            "7/7 [==============================] - 0s 8ms/step - loss: 0.2094 - accuracy: 0.9300 - val_loss: 0.1628 - val_accuracy: 0.9400\n",
            "Epoch 92/100\n",
            "7/7 [==============================] - 0s 8ms/step - loss: 0.2070 - accuracy: 0.9300 - val_loss: 0.1604 - val_accuracy: 0.9400\n",
            "Epoch 93/100\n",
            "7/7 [==============================] - 0s 8ms/step - loss: 0.2051 - accuracy: 0.9300 - val_loss: 0.1580 - val_accuracy: 0.9400\n",
            "Epoch 94/100\n",
            "7/7 [==============================] - 0s 8ms/step - loss: 0.2028 - accuracy: 0.9300 - val_loss: 0.1555 - val_accuracy: 0.9400\n",
            "Epoch 95/100\n",
            "7/7 [==============================] - 0s 10ms/step - loss: 0.2006 - accuracy: 0.9300 - val_loss: 0.1535 - val_accuracy: 0.9400\n",
            "Epoch 96/100\n",
            "7/7 [==============================] - 0s 8ms/step - loss: 0.1985 - accuracy: 0.9300 - val_loss: 0.1513 - val_accuracy: 0.9400\n",
            "Epoch 97/100\n",
            "7/7 [==============================] - 0s 8ms/step - loss: 0.1963 - accuracy: 0.9300 - val_loss: 0.1489 - val_accuracy: 0.9400\n",
            "Epoch 98/100\n",
            "7/7 [==============================] - 0s 10ms/step - loss: 0.1944 - accuracy: 0.9300 - val_loss: 0.1465 - val_accuracy: 0.9400\n",
            "Epoch 99/100\n",
            "7/7 [==============================] - 0s 10ms/step - loss: 0.1920 - accuracy: 0.9300 - val_loss: 0.1438 - val_accuracy: 0.9400\n",
            "Epoch 100/100\n",
            "7/7 [==============================] - 0s 10ms/step - loss: 0.1904 - accuracy: 0.9350 - val_loss: 0.1414 - val_accuracy: 0.9400\n"
          ]
        },
        {
          "output_type": "execute_result",
          "data": {
            "text/plain": [
              "<keras.callbacks.History at 0x7cb059a11600>"
            ]
          },
          "metadata": {},
          "execution_count": 39
        }
      ]
    },
    {
      "cell_type": "code",
      "source": [],
      "metadata": {
        "id": "5Rvy5eb9RFOW"
      },
      "execution_count": null,
      "outputs": []
    },
    {
      "cell_type": "code",
      "source": [],
      "metadata": {
        "id": "UjG70KprRFRY"
      },
      "execution_count": null,
      "outputs": []
    },
    {
      "cell_type": "code",
      "source": [],
      "metadata": {
        "id": "3uWdNMGwRFUb"
      },
      "execution_count": null,
      "outputs": []
    },
    {
      "cell_type": "code",
      "source": [],
      "metadata": {
        "id": "HP1RmXHkRFXN"
      },
      "execution_count": null,
      "outputs": []
    },
    {
      "cell_type": "code",
      "source": [],
      "metadata": {
        "id": "V9KOHGVRRFaM"
      },
      "execution_count": null,
      "outputs": []
    }
  ]
}